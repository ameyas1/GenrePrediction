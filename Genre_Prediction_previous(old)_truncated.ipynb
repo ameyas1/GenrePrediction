{
  "nbformat": 4,
  "nbformat_minor": 0,
  "metadata": {
    "colab": {
      "name": "Genre Prediction - previous(old)-truncated",
      "provenance": [],
      "authorship_tag": "ABX9TyPOaouWlmYlGBCHRanlFzJF",
      "include_colab_link": true
    },
    "kernelspec": {
      "name": "python3",
      "display_name": "Python 3"
    },
    "accelerator": "GPU",
    "widgets": {
      "application/vnd.jupyter.widget-state+json": {
        "d0ac74f78f5943b28f17b26a26dcabca": {
          "model_module": "@jupyter-widgets/controls",
          "model_name": "HBoxModel",
          "state": {
            "_view_name": "HBoxView",
            "_dom_classes": [],
            "_model_name": "HBoxModel",
            "_view_module": "@jupyter-widgets/controls",
            "_model_module_version": "1.5.0",
            "_view_count": null,
            "_view_module_version": "1.5.0",
            "box_style": "",
            "layout": "IPY_MODEL_f84ee9795976462ea5988757e3f59666",
            "_model_module": "@jupyter-widgets/controls",
            "children": [
              "IPY_MODEL_9e7c0fac24524af1a8bee89e00650c01",
              "IPY_MODEL_25ec4b0b07fc4b4a94a5b54d76ef8b91"
            ]
          }
        },
        "f84ee9795976462ea5988757e3f59666": {
          "model_module": "@jupyter-widgets/base",
          "model_name": "LayoutModel",
          "state": {
            "_view_name": "LayoutView",
            "grid_template_rows": null,
            "right": null,
            "justify_content": null,
            "_view_module": "@jupyter-widgets/base",
            "overflow": null,
            "_model_module_version": "1.2.0",
            "_view_count": null,
            "flex_flow": null,
            "width": null,
            "min_width": null,
            "border": null,
            "align_items": null,
            "bottom": null,
            "_model_module": "@jupyter-widgets/base",
            "top": null,
            "grid_column": null,
            "overflow_y": null,
            "overflow_x": null,
            "grid_auto_flow": null,
            "grid_area": null,
            "grid_template_columns": null,
            "flex": null,
            "_model_name": "LayoutModel",
            "justify_items": null,
            "grid_row": null,
            "max_height": null,
            "align_content": null,
            "visibility": null,
            "align_self": null,
            "height": null,
            "min_height": null,
            "padding": null,
            "grid_auto_rows": null,
            "grid_gap": null,
            "max_width": null,
            "order": null,
            "_view_module_version": "1.2.0",
            "grid_template_areas": null,
            "object_position": null,
            "object_fit": null,
            "grid_auto_columns": null,
            "margin": null,
            "display": null,
            "left": null
          }
        },
        "9e7c0fac24524af1a8bee89e00650c01": {
          "model_module": "@jupyter-widgets/controls",
          "model_name": "FloatProgressModel",
          "state": {
            "_view_name": "ProgressView",
            "style": "IPY_MODEL_69dc0207f8ff41a6972269651c5e6c24",
            "_dom_classes": [],
            "description": "Downloading: 100%",
            "_model_name": "FloatProgressModel",
            "bar_style": "success",
            "max": 442,
            "_view_module": "@jupyter-widgets/controls",
            "_model_module_version": "1.5.0",
            "value": 442,
            "_view_count": null,
            "_view_module_version": "1.5.0",
            "orientation": "horizontal",
            "min": 0,
            "description_tooltip": null,
            "_model_module": "@jupyter-widgets/controls",
            "layout": "IPY_MODEL_d708f7fe84094ba883eeb39da7708b83"
          }
        },
        "25ec4b0b07fc4b4a94a5b54d76ef8b91": {
          "model_module": "@jupyter-widgets/controls",
          "model_name": "HTMLModel",
          "state": {
            "_view_name": "HTMLView",
            "style": "IPY_MODEL_edd6abe34ea94816ad302c80bb52cc83",
            "_dom_classes": [],
            "description": "",
            "_model_name": "HTMLModel",
            "placeholder": "​",
            "_view_module": "@jupyter-widgets/controls",
            "_model_module_version": "1.5.0",
            "value": " 442/442 [00:00&lt;00:00, 12.7kB/s]",
            "_view_count": null,
            "_view_module_version": "1.5.0",
            "description_tooltip": null,
            "_model_module": "@jupyter-widgets/controls",
            "layout": "IPY_MODEL_d745e664191d43cdb471cb87846db8de"
          }
        },
        "69dc0207f8ff41a6972269651c5e6c24": {
          "model_module": "@jupyter-widgets/controls",
          "model_name": "ProgressStyleModel",
          "state": {
            "_view_name": "StyleView",
            "_model_name": "ProgressStyleModel",
            "description_width": "initial",
            "_view_module": "@jupyter-widgets/base",
            "_model_module_version": "1.5.0",
            "_view_count": null,
            "_view_module_version": "1.2.0",
            "bar_color": null,
            "_model_module": "@jupyter-widgets/controls"
          }
        },
        "d708f7fe84094ba883eeb39da7708b83": {
          "model_module": "@jupyter-widgets/base",
          "model_name": "LayoutModel",
          "state": {
            "_view_name": "LayoutView",
            "grid_template_rows": null,
            "right": null,
            "justify_content": null,
            "_view_module": "@jupyter-widgets/base",
            "overflow": null,
            "_model_module_version": "1.2.0",
            "_view_count": null,
            "flex_flow": null,
            "width": null,
            "min_width": null,
            "border": null,
            "align_items": null,
            "bottom": null,
            "_model_module": "@jupyter-widgets/base",
            "top": null,
            "grid_column": null,
            "overflow_y": null,
            "overflow_x": null,
            "grid_auto_flow": null,
            "grid_area": null,
            "grid_template_columns": null,
            "flex": null,
            "_model_name": "LayoutModel",
            "justify_items": null,
            "grid_row": null,
            "max_height": null,
            "align_content": null,
            "visibility": null,
            "align_self": null,
            "height": null,
            "min_height": null,
            "padding": null,
            "grid_auto_rows": null,
            "grid_gap": null,
            "max_width": null,
            "order": null,
            "_view_module_version": "1.2.0",
            "grid_template_areas": null,
            "object_position": null,
            "object_fit": null,
            "grid_auto_columns": null,
            "margin": null,
            "display": null,
            "left": null
          }
        },
        "edd6abe34ea94816ad302c80bb52cc83": {
          "model_module": "@jupyter-widgets/controls",
          "model_name": "DescriptionStyleModel",
          "state": {
            "_view_name": "StyleView",
            "_model_name": "DescriptionStyleModel",
            "description_width": "",
            "_view_module": "@jupyter-widgets/base",
            "_model_module_version": "1.5.0",
            "_view_count": null,
            "_view_module_version": "1.2.0",
            "_model_module": "@jupyter-widgets/controls"
          }
        },
        "d745e664191d43cdb471cb87846db8de": {
          "model_module": "@jupyter-widgets/base",
          "model_name": "LayoutModel",
          "state": {
            "_view_name": "LayoutView",
            "grid_template_rows": null,
            "right": null,
            "justify_content": null,
            "_view_module": "@jupyter-widgets/base",
            "overflow": null,
            "_model_module_version": "1.2.0",
            "_view_count": null,
            "flex_flow": null,
            "width": null,
            "min_width": null,
            "border": null,
            "align_items": null,
            "bottom": null,
            "_model_module": "@jupyter-widgets/base",
            "top": null,
            "grid_column": null,
            "overflow_y": null,
            "overflow_x": null,
            "grid_auto_flow": null,
            "grid_area": null,
            "grid_template_columns": null,
            "flex": null,
            "_model_name": "LayoutModel",
            "justify_items": null,
            "grid_row": null,
            "max_height": null,
            "align_content": null,
            "visibility": null,
            "align_self": null,
            "height": null,
            "min_height": null,
            "padding": null,
            "grid_auto_rows": null,
            "grid_gap": null,
            "max_width": null,
            "order": null,
            "_view_module_version": "1.2.0",
            "grid_template_areas": null,
            "object_position": null,
            "object_fit": null,
            "grid_auto_columns": null,
            "margin": null,
            "display": null,
            "left": null
          }
        },
        "bb45b40c9cdd4a2fa97f0b9ff6b59c77": {
          "model_module": "@jupyter-widgets/controls",
          "model_name": "HBoxModel",
          "state": {
            "_view_name": "HBoxView",
            "_dom_classes": [],
            "_model_name": "HBoxModel",
            "_view_module": "@jupyter-widgets/controls",
            "_model_module_version": "1.5.0",
            "_view_count": null,
            "_view_module_version": "1.5.0",
            "box_style": "",
            "layout": "IPY_MODEL_4c98c285ce574454b5ed07d0844f8d3f",
            "_model_module": "@jupyter-widgets/controls",
            "children": [
              "IPY_MODEL_596c1da23a034757a1dedc462dd74fd0",
              "IPY_MODEL_9b04afd9ac7f4c73aa8669bb7576d271"
            ]
          }
        },
        "4c98c285ce574454b5ed07d0844f8d3f": {
          "model_module": "@jupyter-widgets/base",
          "model_name": "LayoutModel",
          "state": {
            "_view_name": "LayoutView",
            "grid_template_rows": null,
            "right": null,
            "justify_content": null,
            "_view_module": "@jupyter-widgets/base",
            "overflow": null,
            "_model_module_version": "1.2.0",
            "_view_count": null,
            "flex_flow": null,
            "width": null,
            "min_width": null,
            "border": null,
            "align_items": null,
            "bottom": null,
            "_model_module": "@jupyter-widgets/base",
            "top": null,
            "grid_column": null,
            "overflow_y": null,
            "overflow_x": null,
            "grid_auto_flow": null,
            "grid_area": null,
            "grid_template_columns": null,
            "flex": null,
            "_model_name": "LayoutModel",
            "justify_items": null,
            "grid_row": null,
            "max_height": null,
            "align_content": null,
            "visibility": null,
            "align_self": null,
            "height": null,
            "min_height": null,
            "padding": null,
            "grid_auto_rows": null,
            "grid_gap": null,
            "max_width": null,
            "order": null,
            "_view_module_version": "1.2.0",
            "grid_template_areas": null,
            "object_position": null,
            "object_fit": null,
            "grid_auto_columns": null,
            "margin": null,
            "display": null,
            "left": null
          }
        },
        "596c1da23a034757a1dedc462dd74fd0": {
          "model_module": "@jupyter-widgets/controls",
          "model_name": "FloatProgressModel",
          "state": {
            "_view_name": "ProgressView",
            "style": "IPY_MODEL_cf7827e98bf84971b2ecb4d6ef4061c6",
            "_dom_classes": [],
            "description": "Downloading: 100%",
            "_model_name": "FloatProgressModel",
            "bar_style": "success",
            "max": 231508,
            "_view_module": "@jupyter-widgets/controls",
            "_model_module_version": "1.5.0",
            "value": 231508,
            "_view_count": null,
            "_view_module_version": "1.5.0",
            "orientation": "horizontal",
            "min": 0,
            "description_tooltip": null,
            "_model_module": "@jupyter-widgets/controls",
            "layout": "IPY_MODEL_f359d1cb7c0943458fb092dd7b32ad88"
          }
        },
        "9b04afd9ac7f4c73aa8669bb7576d271": {
          "model_module": "@jupyter-widgets/controls",
          "model_name": "HTMLModel",
          "state": {
            "_view_name": "HTMLView",
            "style": "IPY_MODEL_a4e0801cbdb140b78482add06ed4eaa2",
            "_dom_classes": [],
            "description": "",
            "_model_name": "HTMLModel",
            "placeholder": "​",
            "_view_module": "@jupyter-widgets/controls",
            "_model_module_version": "1.5.0",
            "value": " 232k/232k [00:00&lt;00:00, 733kB/s]",
            "_view_count": null,
            "_view_module_version": "1.5.0",
            "description_tooltip": null,
            "_model_module": "@jupyter-widgets/controls",
            "layout": "IPY_MODEL_30b861479c1b417aa3fca8f792b8572d"
          }
        },
        "cf7827e98bf84971b2ecb4d6ef4061c6": {
          "model_module": "@jupyter-widgets/controls",
          "model_name": "ProgressStyleModel",
          "state": {
            "_view_name": "StyleView",
            "_model_name": "ProgressStyleModel",
            "description_width": "initial",
            "_view_module": "@jupyter-widgets/base",
            "_model_module_version": "1.5.0",
            "_view_count": null,
            "_view_module_version": "1.2.0",
            "bar_color": null,
            "_model_module": "@jupyter-widgets/controls"
          }
        },
        "f359d1cb7c0943458fb092dd7b32ad88": {
          "model_module": "@jupyter-widgets/base",
          "model_name": "LayoutModel",
          "state": {
            "_view_name": "LayoutView",
            "grid_template_rows": null,
            "right": null,
            "justify_content": null,
            "_view_module": "@jupyter-widgets/base",
            "overflow": null,
            "_model_module_version": "1.2.0",
            "_view_count": null,
            "flex_flow": null,
            "width": null,
            "min_width": null,
            "border": null,
            "align_items": null,
            "bottom": null,
            "_model_module": "@jupyter-widgets/base",
            "top": null,
            "grid_column": null,
            "overflow_y": null,
            "overflow_x": null,
            "grid_auto_flow": null,
            "grid_area": null,
            "grid_template_columns": null,
            "flex": null,
            "_model_name": "LayoutModel",
            "justify_items": null,
            "grid_row": null,
            "max_height": null,
            "align_content": null,
            "visibility": null,
            "align_self": null,
            "height": null,
            "min_height": null,
            "padding": null,
            "grid_auto_rows": null,
            "grid_gap": null,
            "max_width": null,
            "order": null,
            "_view_module_version": "1.2.0",
            "grid_template_areas": null,
            "object_position": null,
            "object_fit": null,
            "grid_auto_columns": null,
            "margin": null,
            "display": null,
            "left": null
          }
        },
        "a4e0801cbdb140b78482add06ed4eaa2": {
          "model_module": "@jupyter-widgets/controls",
          "model_name": "DescriptionStyleModel",
          "state": {
            "_view_name": "StyleView",
            "_model_name": "DescriptionStyleModel",
            "description_width": "",
            "_view_module": "@jupyter-widgets/base",
            "_model_module_version": "1.5.0",
            "_view_count": null,
            "_view_module_version": "1.2.0",
            "_model_module": "@jupyter-widgets/controls"
          }
        },
        "30b861479c1b417aa3fca8f792b8572d": {
          "model_module": "@jupyter-widgets/base",
          "model_name": "LayoutModel",
          "state": {
            "_view_name": "LayoutView",
            "grid_template_rows": null,
            "right": null,
            "justify_content": null,
            "_view_module": "@jupyter-widgets/base",
            "overflow": null,
            "_model_module_version": "1.2.0",
            "_view_count": null,
            "flex_flow": null,
            "width": null,
            "min_width": null,
            "border": null,
            "align_items": null,
            "bottom": null,
            "_model_module": "@jupyter-widgets/base",
            "top": null,
            "grid_column": null,
            "overflow_y": null,
            "overflow_x": null,
            "grid_auto_flow": null,
            "grid_area": null,
            "grid_template_columns": null,
            "flex": null,
            "_model_name": "LayoutModel",
            "justify_items": null,
            "grid_row": null,
            "max_height": null,
            "align_content": null,
            "visibility": null,
            "align_self": null,
            "height": null,
            "min_height": null,
            "padding": null,
            "grid_auto_rows": null,
            "grid_gap": null,
            "max_width": null,
            "order": null,
            "_view_module_version": "1.2.0",
            "grid_template_areas": null,
            "object_position": null,
            "object_fit": null,
            "grid_auto_columns": null,
            "margin": null,
            "display": null,
            "left": null
          }
        },
        "cdf6a2781b7945e2b3e2a4e120fc221e": {
          "model_module": "@jupyter-widgets/controls",
          "model_name": "HBoxModel",
          "state": {
            "_view_name": "HBoxView",
            "_dom_classes": [],
            "_model_name": "HBoxModel",
            "_view_module": "@jupyter-widgets/controls",
            "_model_module_version": "1.5.0",
            "_view_count": null,
            "_view_module_version": "1.5.0",
            "box_style": "",
            "layout": "IPY_MODEL_5543f28ae38e48daae5bf18763a01dad",
            "_model_module": "@jupyter-widgets/controls",
            "children": [
              "IPY_MODEL_cace5202bb824439adaf2ee3633f29ad",
              "IPY_MODEL_9a7c0110506e42399ff429a7d8eff60c"
            ]
          }
        },
        "5543f28ae38e48daae5bf18763a01dad": {
          "model_module": "@jupyter-widgets/base",
          "model_name": "LayoutModel",
          "state": {
            "_view_name": "LayoutView",
            "grid_template_rows": null,
            "right": null,
            "justify_content": null,
            "_view_module": "@jupyter-widgets/base",
            "overflow": null,
            "_model_module_version": "1.2.0",
            "_view_count": null,
            "flex_flow": null,
            "width": null,
            "min_width": null,
            "border": null,
            "align_items": null,
            "bottom": null,
            "_model_module": "@jupyter-widgets/base",
            "top": null,
            "grid_column": null,
            "overflow_y": null,
            "overflow_x": null,
            "grid_auto_flow": null,
            "grid_area": null,
            "grid_template_columns": null,
            "flex": null,
            "_model_name": "LayoutModel",
            "justify_items": null,
            "grid_row": null,
            "max_height": null,
            "align_content": null,
            "visibility": null,
            "align_self": null,
            "height": null,
            "min_height": null,
            "padding": null,
            "grid_auto_rows": null,
            "grid_gap": null,
            "max_width": null,
            "order": null,
            "_view_module_version": "1.2.0",
            "grid_template_areas": null,
            "object_position": null,
            "object_fit": null,
            "grid_auto_columns": null,
            "margin": null,
            "display": null,
            "left": null
          }
        },
        "cace5202bb824439adaf2ee3633f29ad": {
          "model_module": "@jupyter-widgets/controls",
          "model_name": "FloatProgressModel",
          "state": {
            "_view_name": "ProgressView",
            "style": "IPY_MODEL_706b1f376ba44d12889e63c0ffe2140b",
            "_dom_classes": [],
            "description": "Downloading: 100%",
            "_model_name": "FloatProgressModel",
            "bar_style": "success",
            "max": 363423424,
            "_view_module": "@jupyter-widgets/controls",
            "_model_module_version": "1.5.0",
            "value": 363423424,
            "_view_count": null,
            "_view_module_version": "1.5.0",
            "orientation": "horizontal",
            "min": 0,
            "description_tooltip": null,
            "_model_module": "@jupyter-widgets/controls",
            "layout": "IPY_MODEL_f9dcf8e799bd41838130de7a0773f28f"
          }
        },
        "9a7c0110506e42399ff429a7d8eff60c": {
          "model_module": "@jupyter-widgets/controls",
          "model_name": "HTMLModel",
          "state": {
            "_view_name": "HTMLView",
            "style": "IPY_MODEL_aba8f6f43e464f8795775791d1fcf72a",
            "_dom_classes": [],
            "description": "",
            "_model_name": "HTMLModel",
            "placeholder": "​",
            "_view_module": "@jupyter-widgets/controls",
            "_model_module_version": "1.5.0",
            "value": " 363M/363M [00:10&lt;00:00, 34.9MB/s]",
            "_view_count": null,
            "_view_module_version": "1.5.0",
            "description_tooltip": null,
            "_model_module": "@jupyter-widgets/controls",
            "layout": "IPY_MODEL_9142f7f9126742a898194cd5d257f4b9"
          }
        },
        "706b1f376ba44d12889e63c0ffe2140b": {
          "model_module": "@jupyter-widgets/controls",
          "model_name": "ProgressStyleModel",
          "state": {
            "_view_name": "StyleView",
            "_model_name": "ProgressStyleModel",
            "description_width": "initial",
            "_view_module": "@jupyter-widgets/base",
            "_model_module_version": "1.5.0",
            "_view_count": null,
            "_view_module_version": "1.2.0",
            "bar_color": null,
            "_model_module": "@jupyter-widgets/controls"
          }
        },
        "f9dcf8e799bd41838130de7a0773f28f": {
          "model_module": "@jupyter-widgets/base",
          "model_name": "LayoutModel",
          "state": {
            "_view_name": "LayoutView",
            "grid_template_rows": null,
            "right": null,
            "justify_content": null,
            "_view_module": "@jupyter-widgets/base",
            "overflow": null,
            "_model_module_version": "1.2.0",
            "_view_count": null,
            "flex_flow": null,
            "width": null,
            "min_width": null,
            "border": null,
            "align_items": null,
            "bottom": null,
            "_model_module": "@jupyter-widgets/base",
            "top": null,
            "grid_column": null,
            "overflow_y": null,
            "overflow_x": null,
            "grid_auto_flow": null,
            "grid_area": null,
            "grid_template_columns": null,
            "flex": null,
            "_model_name": "LayoutModel",
            "justify_items": null,
            "grid_row": null,
            "max_height": null,
            "align_content": null,
            "visibility": null,
            "align_self": null,
            "height": null,
            "min_height": null,
            "padding": null,
            "grid_auto_rows": null,
            "grid_gap": null,
            "max_width": null,
            "order": null,
            "_view_module_version": "1.2.0",
            "grid_template_areas": null,
            "object_position": null,
            "object_fit": null,
            "grid_auto_columns": null,
            "margin": null,
            "display": null,
            "left": null
          }
        },
        "aba8f6f43e464f8795775791d1fcf72a": {
          "model_module": "@jupyter-widgets/controls",
          "model_name": "DescriptionStyleModel",
          "state": {
            "_view_name": "StyleView",
            "_model_name": "DescriptionStyleModel",
            "description_width": "",
            "_view_module": "@jupyter-widgets/base",
            "_model_module_version": "1.5.0",
            "_view_count": null,
            "_view_module_version": "1.2.0",
            "_model_module": "@jupyter-widgets/controls"
          }
        },
        "9142f7f9126742a898194cd5d257f4b9": {
          "model_module": "@jupyter-widgets/base",
          "model_name": "LayoutModel",
          "state": {
            "_view_name": "LayoutView",
            "grid_template_rows": null,
            "right": null,
            "justify_content": null,
            "_view_module": "@jupyter-widgets/base",
            "overflow": null,
            "_model_module_version": "1.2.0",
            "_view_count": null,
            "flex_flow": null,
            "width": null,
            "min_width": null,
            "border": null,
            "align_items": null,
            "bottom": null,
            "_model_module": "@jupyter-widgets/base",
            "top": null,
            "grid_column": null,
            "overflow_y": null,
            "overflow_x": null,
            "grid_auto_flow": null,
            "grid_area": null,
            "grid_template_columns": null,
            "flex": null,
            "_model_name": "LayoutModel",
            "justify_items": null,
            "grid_row": null,
            "max_height": null,
            "align_content": null,
            "visibility": null,
            "align_self": null,
            "height": null,
            "min_height": null,
            "padding": null,
            "grid_auto_rows": null,
            "grid_gap": null,
            "max_width": null,
            "order": null,
            "_view_module_version": "1.2.0",
            "grid_template_areas": null,
            "object_position": null,
            "object_fit": null,
            "grid_auto_columns": null,
            "margin": null,
            "display": null,
            "left": null
          }
        }
      }
    }
  },
  "cells": [
    {
      "cell_type": "markdown",
      "metadata": {
        "id": "view-in-github",
        "colab_type": "text"
      },
      "source": [
        "<a href=\"https://colab.research.google.com/github/ameyas1/GenrePrediction/blob/master/Genre_Prediction_previous(old)_truncated.ipynb\" target=\"_parent\"><img src=\"https://colab.research.google.com/assets/colab-badge.svg\" alt=\"Open In Colab\"/></a>"
      ]
    },
    {
      "cell_type": "code",
      "metadata": {
        "id": "evE56Sn4zQfk",
        "colab_type": "code",
        "colab": {}
      },
      "source": [
        ""
      ],
      "execution_count": null,
      "outputs": []
    },
    {
      "cell_type": "code",
      "metadata": {
        "id": "5moAmwxszbng",
        "colab_type": "code",
        "colab": {
          "base_uri": "https://localhost:8080/",
          "height": 123
        },
        "outputId": "8d534e29-5859-48ae-feb5-7bd12605bc27"
      },
      "source": [
        "from google.colab import drive\n",
        "drive.mount('/content/drive')"
      ],
      "execution_count": 1,
      "outputs": [
        {
          "output_type": "stream",
          "text": [
            "Go to this URL in a browser: https://accounts.google.com/o/oauth2/auth?client_id=947318989803-6bn6qk8qdgf4n4g3pfee6491hc0brc4i.apps.googleusercontent.com&redirect_uri=urn%3aietf%3awg%3aoauth%3a2.0%3aoob&scope=email%20https%3a%2f%2fwww.googleapis.com%2fauth%2fdocs.test%20https%3a%2f%2fwww.googleapis.com%2fauth%2fdrive%20https%3a%2f%2fwww.googleapis.com%2fauth%2fdrive.photos.readonly%20https%3a%2f%2fwww.googleapis.com%2fauth%2fpeopleapi.readonly&response_type=code\n",
            "\n",
            "Enter your authorization code:\n",
            "··········\n",
            "Mounted at /content/drive\n"
          ],
          "name": "stdout"
        }
      ]
    },
    {
      "cell_type": "code",
      "metadata": {
        "id": "fsOaQHPdDndg",
        "colab_type": "code",
        "colab": {
          "base_uri": "https://localhost:8080/",
          "height": 207
        },
        "outputId": "fb077fee-92b7-4f59-e7da-03121b034f8b"
      },
      "source": [
        "!wget http://www.cs.cmu.edu/~ark/personas/data/MovieSummaries.tar.gz"
      ],
      "execution_count": 2,
      "outputs": [
        {
          "output_type": "stream",
          "text": [
            "--2020-08-16 02:42:49--  http://www.cs.cmu.edu/~ark/personas/data/MovieSummaries.tar.gz\n",
            "Resolving www.cs.cmu.edu (www.cs.cmu.edu)... 128.2.42.95\n",
            "Connecting to www.cs.cmu.edu (www.cs.cmu.edu)|128.2.42.95|:80... connected.\n",
            "HTTP request sent, awaiting response... 200 OK\n",
            "Length: 48002242 (46M) [application/x-gzip]\n",
            "Saving to: ‘MovieSummaries.tar.gz’\n",
            "\n",
            "MovieSummaries.tar. 100%[===================>]  45.78M   630KB/s    in 76s     \n",
            "\n",
            "2020-08-16 02:44:05 (615 KB/s) - ‘MovieSummaries.tar.gz’ saved [48002242/48002242]\n",
            "\n"
          ],
          "name": "stdout"
        }
      ]
    },
    {
      "cell_type": "code",
      "metadata": {
        "id": "i7XqKVDSi0FX",
        "colab_type": "code",
        "colab": {}
      },
      "source": [
        "!tar -xzf /content/MovieSummaries.tar.gz"
      ],
      "execution_count": 3,
      "outputs": []
    },
    {
      "cell_type": "code",
      "metadata": {
        "id": "Ru67QvCgi37_",
        "colab_type": "code",
        "colab": {
          "base_uri": "https://localhost:8080/",
          "height": 708
        },
        "outputId": "522eeef2-1aa3-4875-ce96-359b089a8f07"
      },
      "source": [
        "!pip install git+https://github.com/joeddav/transformers.git@data-collator-type-fix"
      ],
      "execution_count": 4,
      "outputs": [
        {
          "output_type": "stream",
          "text": [
            "Collecting git+https://github.com/joeddav/transformers.git@data-collator-type-fix\n",
            "  Cloning https://github.com/joeddav/transformers.git (to revision data-collator-type-fix) to /tmp/pip-req-build-s5oc_sco\n",
            "  Running command git clone -q https://github.com/joeddav/transformers.git /tmp/pip-req-build-s5oc_sco\n",
            "  Running command git checkout -b data-collator-type-fix --track origin/data-collator-type-fix\n",
            "  Switched to a new branch 'data-collator-type-fix'\n",
            "  Branch 'data-collator-type-fix' set up to track remote branch 'data-collator-type-fix' from 'origin'.\n",
            "Requirement already satisfied: numpy in /usr/local/lib/python3.6/dist-packages (from transformers==2.11.0) (1.18.5)\n",
            "Collecting tokenizers==0.8.0-rc3\n",
            "\u001b[?25l  Downloading https://files.pythonhosted.org/packages/c3/24/fc3b869878ad596d9b3acfea7f1f163958893579f7b0c278cc45eb885dfd/tokenizers-0.8.0rc3-cp36-cp36m-manylinux1_x86_64.whl (3.0MB)\n",
            "\u001b[K     |████████████████████████████████| 3.0MB 8.4MB/s \n",
            "\u001b[?25hRequirement already satisfied: packaging in /usr/local/lib/python3.6/dist-packages (from transformers==2.11.0) (20.4)\n",
            "Requirement already satisfied: filelock in /usr/local/lib/python3.6/dist-packages (from transformers==2.11.0) (3.0.12)\n",
            "Requirement already satisfied: requests in /usr/local/lib/python3.6/dist-packages (from transformers==2.11.0) (2.23.0)\n",
            "Requirement already satisfied: tqdm>=4.27 in /usr/local/lib/python3.6/dist-packages (from transformers==2.11.0) (4.41.1)\n",
            "Requirement already satisfied: regex!=2019.12.17 in /usr/local/lib/python3.6/dist-packages (from transformers==2.11.0) (2019.12.20)\n",
            "Collecting sentencepiece\n",
            "\u001b[?25l  Downloading https://files.pythonhosted.org/packages/d4/a4/d0a884c4300004a78cca907a6ff9a5e9fe4f090f5d95ab341c53d28cbc58/sentencepiece-0.1.91-cp36-cp36m-manylinux1_x86_64.whl (1.1MB)\n",
            "\u001b[K     |████████████████████████████████| 1.1MB 56.1MB/s \n",
            "\u001b[?25hCollecting sacremoses\n",
            "\u001b[?25l  Downloading https://files.pythonhosted.org/packages/7d/34/09d19aff26edcc8eb2a01bed8e98f13a1537005d31e95233fd48216eed10/sacremoses-0.0.43.tar.gz (883kB)\n",
            "\u001b[K     |████████████████████████████████| 890kB 53.2MB/s \n",
            "\u001b[?25hRequirement already satisfied: dataclasses in /usr/local/lib/python3.6/dist-packages (from transformers==2.11.0) (0.7)\n",
            "Requirement already satisfied: six in /usr/local/lib/python3.6/dist-packages (from packaging->transformers==2.11.0) (1.15.0)\n",
            "Requirement already satisfied: pyparsing>=2.0.2 in /usr/local/lib/python3.6/dist-packages (from packaging->transformers==2.11.0) (2.4.7)\n",
            "Requirement already satisfied: chardet<4,>=3.0.2 in /usr/local/lib/python3.6/dist-packages (from requests->transformers==2.11.0) (3.0.4)\n",
            "Requirement already satisfied: idna<3,>=2.5 in /usr/local/lib/python3.6/dist-packages (from requests->transformers==2.11.0) (2.10)\n",
            "Requirement already satisfied: certifi>=2017.4.17 in /usr/local/lib/python3.6/dist-packages (from requests->transformers==2.11.0) (2020.6.20)\n",
            "Requirement already satisfied: urllib3!=1.25.0,!=1.25.1,<1.26,>=1.21.1 in /usr/local/lib/python3.6/dist-packages (from requests->transformers==2.11.0) (1.24.3)\n",
            "Requirement already satisfied: click in /usr/local/lib/python3.6/dist-packages (from sacremoses->transformers==2.11.0) (7.1.2)\n",
            "Requirement already satisfied: joblib in /usr/local/lib/python3.6/dist-packages (from sacremoses->transformers==2.11.0) (0.16.0)\n",
            "Building wheels for collected packages: transformers, sacremoses\n",
            "  Building wheel for transformers (setup.py) ... \u001b[?25l\u001b[?25hdone\n",
            "  Created wheel for transformers: filename=transformers-2.11.0-cp36-none-any.whl size=746347 sha256=240eb65d581ba66d0556a259adc6c717b2bd2724730862a4e9baa942237af1a3\n",
            "  Stored in directory: /tmp/pip-ephem-wheel-cache-l2oy30ev/wheels/17/d2/a2/c00487983b93ad7c3c487727a842b0f3ea8f7242c89fa93441\n",
            "  Building wheel for sacremoses (setup.py) ... \u001b[?25l\u001b[?25hdone\n",
            "  Created wheel for sacremoses: filename=sacremoses-0.0.43-cp36-none-any.whl size=893260 sha256=f1ce3e1757083fb27ce4c067d304e04abb3aaead615ae56380c6486036341eb8\n",
            "  Stored in directory: /root/.cache/pip/wheels/29/3c/fd/7ce5c3f0666dab31a50123635e6fb5e19ceb42ce38d4e58f45\n",
            "Successfully built transformers sacremoses\n",
            "Installing collected packages: tokenizers, sentencepiece, sacremoses, transformers\n",
            "Successfully installed sacremoses-0.0.43 sentencepiece-0.1.91 tokenizers-0.8.0rc3 transformers-2.11.0\n"
          ],
          "name": "stdout"
        }
      ]
    },
    {
      "cell_type": "code",
      "metadata": {
        "id": "69PyKarQRcpD",
        "colab_type": "code",
        "colab": {}
      },
      "source": [
        "import tensorflow_addons as tfa"
      ],
      "execution_count": 5,
      "outputs": []
    },
    {
      "cell_type": "code",
      "metadata": {
        "id": "xJbIbqfxi_b8",
        "colab_type": "code",
        "colab": {
          "base_uri": "https://localhost:8080/",
          "height": 51
        },
        "outputId": "0a7af8b3-8c91-4e57-d351-7dee1935e844"
      },
      "source": [
        "import pandas as pd\n",
        "import numpy as np\n",
        "import json\n",
        "import nltk\n",
        "import re\n",
        "import csv\n",
        "import matplotlib.pyplot as plt \n",
        "import seaborn as sns\n",
        "from tqdm import tqdm\n",
        "from tensorflow.keras import backend as K\n",
        "from sklearn.model_selection import train_test_split\n",
        "from wordcloud import WordCloud, STOPWORDS\n",
        "import tensorflow as tf\n",
        "\n",
        "%matplotlib inline"
      ],
      "execution_count": 6,
      "outputs": [
        {
          "output_type": "stream",
          "text": [
            "/usr/local/lib/python3.6/dist-packages/statsmodels/tools/_testing.py:19: FutureWarning: pandas.util.testing is deprecated. Use the functions in the public API at pandas.testing instead.\n",
            "  import pandas.util.testing as tm\n"
          ],
          "name": "stderr"
        }
      ]
    },
    {
      "cell_type": "code",
      "metadata": {
        "id": "oaV50F20nBof",
        "colab_type": "code",
        "colab": {
          "base_uri": "https://localhost:8080/",
          "height": 68
        },
        "outputId": "7c29b555-72bb-4a1a-9025-6707fd05ebc7"
      },
      "source": [
        "from nltk.tokenize import word_tokenize\n",
        "nltk.download('punkt')"
      ],
      "execution_count": 7,
      "outputs": [
        {
          "output_type": "stream",
          "text": [
            "[nltk_data] Downloading package punkt to /root/nltk_data...\n",
            "[nltk_data]   Unzipping tokenizers/punkt.zip.\n"
          ],
          "name": "stdout"
        },
        {
          "output_type": "execute_result",
          "data": {
            "text/plain": [
              "True"
            ]
          },
          "metadata": {
            "tags": []
          },
          "execution_count": 7
        }
      ]
    },
    {
      "cell_type": "code",
      "metadata": {
        "id": "Bnak3YG5jTA5",
        "colab_type": "code",
        "colab": {
          "base_uri": "https://localhost:8080/",
          "height": 291
        },
        "outputId": "8d3d7e5a-9af5-4cfd-d7c7-fb9c2786f96c"
      },
      "source": [
        "meta = pd.read_csv(\"/content/MovieSummaries/movie.metadata.tsv\", sep = '\\t', header = None)\n",
        "meta.head()"
      ],
      "execution_count": 8,
      "outputs": [
        {
          "output_type": "execute_result",
          "data": {
            "text/html": [
              "<div>\n",
              "<style scoped>\n",
              "    .dataframe tbody tr th:only-of-type {\n",
              "        vertical-align: middle;\n",
              "    }\n",
              "\n",
              "    .dataframe tbody tr th {\n",
              "        vertical-align: top;\n",
              "    }\n",
              "\n",
              "    .dataframe thead th {\n",
              "        text-align: right;\n",
              "    }\n",
              "</style>\n",
              "<table border=\"1\" class=\"dataframe\">\n",
              "  <thead>\n",
              "    <tr style=\"text-align: right;\">\n",
              "      <th></th>\n",
              "      <th>0</th>\n",
              "      <th>1</th>\n",
              "      <th>2</th>\n",
              "      <th>3</th>\n",
              "      <th>4</th>\n",
              "      <th>5</th>\n",
              "      <th>6</th>\n",
              "      <th>7</th>\n",
              "      <th>8</th>\n",
              "    </tr>\n",
              "  </thead>\n",
              "  <tbody>\n",
              "    <tr>\n",
              "      <th>0</th>\n",
              "      <td>975900</td>\n",
              "      <td>/m/03vyhn</td>\n",
              "      <td>Ghosts of Mars</td>\n",
              "      <td>2001-08-24</td>\n",
              "      <td>14010832.0</td>\n",
              "      <td>98.0</td>\n",
              "      <td>{\"/m/02h40lc\": \"English Language\"}</td>\n",
              "      <td>{\"/m/09c7w0\": \"United States of America\"}</td>\n",
              "      <td>{\"/m/01jfsb\": \"Thriller\", \"/m/06n90\": \"Science...</td>\n",
              "    </tr>\n",
              "    <tr>\n",
              "      <th>1</th>\n",
              "      <td>3196793</td>\n",
              "      <td>/m/08yl5d</td>\n",
              "      <td>Getting Away with Murder: The JonBenét Ramsey ...</td>\n",
              "      <td>2000-02-16</td>\n",
              "      <td>NaN</td>\n",
              "      <td>95.0</td>\n",
              "      <td>{\"/m/02h40lc\": \"English Language\"}</td>\n",
              "      <td>{\"/m/09c7w0\": \"United States of America\"}</td>\n",
              "      <td>{\"/m/02n4kr\": \"Mystery\", \"/m/03bxz7\": \"Biograp...</td>\n",
              "    </tr>\n",
              "    <tr>\n",
              "      <th>2</th>\n",
              "      <td>28463795</td>\n",
              "      <td>/m/0crgdbh</td>\n",
              "      <td>Brun bitter</td>\n",
              "      <td>1988</td>\n",
              "      <td>NaN</td>\n",
              "      <td>83.0</td>\n",
              "      <td>{\"/m/05f_3\": \"Norwegian Language\"}</td>\n",
              "      <td>{\"/m/05b4w\": \"Norway\"}</td>\n",
              "      <td>{\"/m/0lsxr\": \"Crime Fiction\", \"/m/07s9rl0\": \"D...</td>\n",
              "    </tr>\n",
              "    <tr>\n",
              "      <th>3</th>\n",
              "      <td>9363483</td>\n",
              "      <td>/m/0285_cd</td>\n",
              "      <td>White Of The Eye</td>\n",
              "      <td>1987</td>\n",
              "      <td>NaN</td>\n",
              "      <td>110.0</td>\n",
              "      <td>{\"/m/02h40lc\": \"English Language\"}</td>\n",
              "      <td>{\"/m/07ssc\": \"United Kingdom\"}</td>\n",
              "      <td>{\"/m/01jfsb\": \"Thriller\", \"/m/0glj9q\": \"Erotic...</td>\n",
              "    </tr>\n",
              "    <tr>\n",
              "      <th>4</th>\n",
              "      <td>261236</td>\n",
              "      <td>/m/01mrr1</td>\n",
              "      <td>A Woman in Flames</td>\n",
              "      <td>1983</td>\n",
              "      <td>NaN</td>\n",
              "      <td>106.0</td>\n",
              "      <td>{\"/m/04306rv\": \"German Language\"}</td>\n",
              "      <td>{\"/m/0345h\": \"Germany\"}</td>\n",
              "      <td>{\"/m/07s9rl0\": \"Drama\"}</td>\n",
              "    </tr>\n",
              "  </tbody>\n",
              "</table>\n",
              "</div>"
            ],
            "text/plain": [
              "          0  ...                                                  8\n",
              "0    975900  ...  {\"/m/01jfsb\": \"Thriller\", \"/m/06n90\": \"Science...\n",
              "1   3196793  ...  {\"/m/02n4kr\": \"Mystery\", \"/m/03bxz7\": \"Biograp...\n",
              "2  28463795  ...  {\"/m/0lsxr\": \"Crime Fiction\", \"/m/07s9rl0\": \"D...\n",
              "3   9363483  ...  {\"/m/01jfsb\": \"Thriller\", \"/m/0glj9q\": \"Erotic...\n",
              "4    261236  ...                            {\"/m/07s9rl0\": \"Drama\"}\n",
              "\n",
              "[5 rows x 9 columns]"
            ]
          },
          "metadata": {
            "tags": []
          },
          "execution_count": 8
        }
      ]
    },
    {
      "cell_type": "code",
      "metadata": {
        "id": "pSvPIMzbjXUp",
        "colab_type": "code",
        "colab": {}
      },
      "source": [
        "# rename columns\n",
        "meta.columns = [\"movie_id\",1,\"movie_name\",3,4,5,6,7,\"genre\"]"
      ],
      "execution_count": 9,
      "outputs": []
    },
    {
      "cell_type": "code",
      "metadata": {
        "id": "uWtAYYjqjaMB",
        "colab_type": "code",
        "colab": {
          "base_uri": "https://localhost:8080/",
          "height": 194
        },
        "outputId": "f2295feb-d09d-4a8d-99f3-d0ab2757a1b5"
      },
      "source": [
        "meta.head(3)"
      ],
      "execution_count": 10,
      "outputs": [
        {
          "output_type": "execute_result",
          "data": {
            "text/html": [
              "<div>\n",
              "<style scoped>\n",
              "    .dataframe tbody tr th:only-of-type {\n",
              "        vertical-align: middle;\n",
              "    }\n",
              "\n",
              "    .dataframe tbody tr th {\n",
              "        vertical-align: top;\n",
              "    }\n",
              "\n",
              "    .dataframe thead th {\n",
              "        text-align: right;\n",
              "    }\n",
              "</style>\n",
              "<table border=\"1\" class=\"dataframe\">\n",
              "  <thead>\n",
              "    <tr style=\"text-align: right;\">\n",
              "      <th></th>\n",
              "      <th>movie_id</th>\n",
              "      <th>1</th>\n",
              "      <th>movie_name</th>\n",
              "      <th>3</th>\n",
              "      <th>4</th>\n",
              "      <th>5</th>\n",
              "      <th>6</th>\n",
              "      <th>7</th>\n",
              "      <th>genre</th>\n",
              "    </tr>\n",
              "  </thead>\n",
              "  <tbody>\n",
              "    <tr>\n",
              "      <th>0</th>\n",
              "      <td>975900</td>\n",
              "      <td>/m/03vyhn</td>\n",
              "      <td>Ghosts of Mars</td>\n",
              "      <td>2001-08-24</td>\n",
              "      <td>14010832.0</td>\n",
              "      <td>98.0</td>\n",
              "      <td>{\"/m/02h40lc\": \"English Language\"}</td>\n",
              "      <td>{\"/m/09c7w0\": \"United States of America\"}</td>\n",
              "      <td>{\"/m/01jfsb\": \"Thriller\", \"/m/06n90\": \"Science...</td>\n",
              "    </tr>\n",
              "    <tr>\n",
              "      <th>1</th>\n",
              "      <td>3196793</td>\n",
              "      <td>/m/08yl5d</td>\n",
              "      <td>Getting Away with Murder: The JonBenét Ramsey ...</td>\n",
              "      <td>2000-02-16</td>\n",
              "      <td>NaN</td>\n",
              "      <td>95.0</td>\n",
              "      <td>{\"/m/02h40lc\": \"English Language\"}</td>\n",
              "      <td>{\"/m/09c7w0\": \"United States of America\"}</td>\n",
              "      <td>{\"/m/02n4kr\": \"Mystery\", \"/m/03bxz7\": \"Biograp...</td>\n",
              "    </tr>\n",
              "    <tr>\n",
              "      <th>2</th>\n",
              "      <td>28463795</td>\n",
              "      <td>/m/0crgdbh</td>\n",
              "      <td>Brun bitter</td>\n",
              "      <td>1988</td>\n",
              "      <td>NaN</td>\n",
              "      <td>83.0</td>\n",
              "      <td>{\"/m/05f_3\": \"Norwegian Language\"}</td>\n",
              "      <td>{\"/m/05b4w\": \"Norway\"}</td>\n",
              "      <td>{\"/m/0lsxr\": \"Crime Fiction\", \"/m/07s9rl0\": \"D...</td>\n",
              "    </tr>\n",
              "  </tbody>\n",
              "</table>\n",
              "</div>"
            ],
            "text/plain": [
              "   movie_id  ...                                              genre\n",
              "0    975900  ...  {\"/m/01jfsb\": \"Thriller\", \"/m/06n90\": \"Science...\n",
              "1   3196793  ...  {\"/m/02n4kr\": \"Mystery\", \"/m/03bxz7\": \"Biograp...\n",
              "2  28463795  ...  {\"/m/0lsxr\": \"Crime Fiction\", \"/m/07s9rl0\": \"D...\n",
              "\n",
              "[3 rows x 9 columns]"
            ]
          },
          "metadata": {
            "tags": []
          },
          "execution_count": 10
        }
      ]
    },
    {
      "cell_type": "code",
      "metadata": {
        "id": "608DMYeYjc-n",
        "colab_type": "code",
        "colab": {
          "base_uri": "https://localhost:8080/",
          "height": 123
        },
        "outputId": "8ae18319-f75a-40ba-ab5e-171d40cc7f9d"
      },
      "source": [
        "plots = []\n",
        "\n",
        "with open(\"/content/MovieSummaries/plot_summaries.txt\", 'r') as f:\n",
        "       reader = csv.reader(f, dialect='excel-tab') \n",
        "       for row in tqdm(reader):\n",
        "            plots.append(row)\n",
        "plots[:2]"
      ],
      "execution_count": 11,
      "outputs": [
        {
          "output_type": "stream",
          "text": [
            "42303it [00:01, 40674.77it/s]\n"
          ],
          "name": "stderr"
        },
        {
          "output_type": "execute_result",
          "data": {
            "text/plain": [
              "[['23890098',\n",
              "  \"Shlykov, a hard-working taxi driver and Lyosha, a saxophonist, develop a bizarre love-hate relationship, and despite their prejudices, realize they aren't so different after all.\"],\n",
              " ['31186339',\n",
              "  'The nation of Panem consists of a wealthy Capitol and twelve poorer districts. As punishment for a past rebellion, each district must provide a boy and girl  between the ages of 12 and 18 selected by lottery  for the annual Hunger Games. The tributes must fight to the death in an arena; the sole survivor is rewarded with fame and wealth. In her first Reaping, 12-year-old Primrose Everdeen is chosen from District 12. Her older sister Katniss volunteers to take her place. Peeta Mellark, a baker\\'s son who once gave Katniss bread when she was starving, is the other District 12 tribute. Katniss and Peeta are taken to the Capitol, accompanied by their frequently drunk mentor, past victor Haymitch Abernathy. He warns them about the \"Career\" tributes who train intensively at special academies and almost always win. During a TV interview with Caesar Flickerman, Peeta unexpectedly reveals his love for Katniss. She is outraged, believing it to be a ploy to gain audience support, as \"sponsors\" may provide in-Games gifts of food, medicine, and tools. However, she discovers Peeta meant what he said. The televised Games begin with half of the tributes killed in the first few minutes; Katniss barely survives ignoring Haymitch\\'s advice to run away from the melee over the tempting supplies and weapons strewn in front of a structure called the Cornucopia. Peeta forms an uneasy alliance with the four Careers. They later find Katniss and corner her up a tree. Rue, hiding in a nearby tree, draws her attention to a poisonous tracker jacker nest hanging from a branch. Katniss drops it on her sleeping besiegers. They all scatter, except for Glimmer, who is killed by the insects. Hallucinating due to tracker jacker venom, Katniss is warned to run away by Peeta. Rue cares for Katniss for a couple of days until she recovers. Meanwhile, the alliance has gathered all the supplies into a pile. Katniss has Rue draw them off, then destroys the stockpile by setting off the mines planted around it. Furious, Cato kills the boy assigned to guard it. As Katniss runs from the scene, she hears Rue calling her name. She finds Rue trapped and releases her. Marvel, a tribute from District 1, throws a spear at Katniss, but she dodges the spear, causing it to stab Rue in the stomach instead. Katniss shoots him dead with an arrow. She then comforts the dying Rue with a song. Afterward, she gathers and arranges flowers around Rue\\'s body. When this is televised, it sparks a riot in Rue\\'s District 11. President Snow summons Seneca Crane, the Gamemaker, to express his displeasure at the way the Games are turning out. Since Katniss and Peeta have been presented to the public as \"star-crossed lovers\", Haymitch is able to convince Crane to make a rule change to avoid inciting further riots. It is announced that tributes from the same district can win as a pair. Upon hearing this, Katniss searches for Peeta and finds him with an infected sword wound in the leg. She portrays herself as deeply in love with him and gains a sponsor\\'s gift of soup. An announcer proclaims a feast, where the thing each survivor needs most will be provided. Peeta begs her not to risk getting him medicine. Katniss promises not to go, but after he falls asleep, she heads to the feast. Clove ambushes her and pins her down. As Clove gloats, Thresh, the other District 11 tribute, kills Clove after overhearing her tormenting Katniss about killing Rue. He spares Katniss \"just this time...for Rue\". The medicine works, keeping Peeta mobile. Foxface, the girl from District 5, dies from eating nightlock berries she stole from Peeta; neither knew they are highly poisonous. Crane changes the time of day in the arena to late at night and unleashes a pack of hound-like creatures to speed things up. They kill Thresh and force Katniss and Peeta to flee to the roof of the Cornucopia, where they encounter Cato. After a battle, Katniss wounds Cato with an arrow and Peeta hurls him to the creatures below. Katniss shoots Cato to spare him a prolonged death. With Peeta and Katniss apparently victorious, the rule change allowing two winners is suddenly revoked. Peeta tells Katniss to shoot him. Instead, she gives him half of the nightlock. However, before they can commit suicide, they are hastily proclaimed the victors of the 74th Hunger Games. Haymitch warns Katniss that she has made powerful enemies after her display of defiance. She and Peeta return to District 12, while Crane is locked in a room with a bowl of nightlock berries, and President Snow considers the situation.']]"
            ]
          },
          "metadata": {
            "tags": []
          },
          "execution_count": 11
        }
      ]
    },
    {
      "cell_type": "code",
      "metadata": {
        "id": "Rqo06nyHjhvz",
        "colab_type": "code",
        "colab": {
          "base_uri": "https://localhost:8080/",
          "height": 34
        },
        "outputId": "b6e96a29-1e4b-464f-e8a9-d51fbbbae004"
      },
      "source": [
        "movie_id = []\n",
        "plot = []\n",
        "\n",
        "# extract movie Ids and plot summaries\n",
        "for i in tqdm(plots):\n",
        "  movie_id.append(i[0])\n",
        "  plot.append(i[1])\n",
        "\n",
        "# create dataframe\n",
        "movies = pd.DataFrame({'movie_id': movie_id, 'plot': plot})"
      ],
      "execution_count": 12,
      "outputs": [
        {
          "output_type": "stream",
          "text": [
            "100%|██████████| 42303/42303 [00:00<00:00, 1389158.37it/s]\n"
          ],
          "name": "stderr"
        }
      ]
    },
    {
      "cell_type": "code",
      "metadata": {
        "id": "xYah9VidjlRu",
        "colab_type": "code",
        "colab": {
          "base_uri": "https://localhost:8080/",
          "height": 204
        },
        "outputId": "cbf538b5-7f70-4242-f26c-f844baff41ee"
      },
      "source": [
        "movies.head()"
      ],
      "execution_count": 13,
      "outputs": [
        {
          "output_type": "execute_result",
          "data": {
            "text/html": [
              "<div>\n",
              "<style scoped>\n",
              "    .dataframe tbody tr th:only-of-type {\n",
              "        vertical-align: middle;\n",
              "    }\n",
              "\n",
              "    .dataframe tbody tr th {\n",
              "        vertical-align: top;\n",
              "    }\n",
              "\n",
              "    .dataframe thead th {\n",
              "        text-align: right;\n",
              "    }\n",
              "</style>\n",
              "<table border=\"1\" class=\"dataframe\">\n",
              "  <thead>\n",
              "    <tr style=\"text-align: right;\">\n",
              "      <th></th>\n",
              "      <th>movie_id</th>\n",
              "      <th>plot</th>\n",
              "    </tr>\n",
              "  </thead>\n",
              "  <tbody>\n",
              "    <tr>\n",
              "      <th>0</th>\n",
              "      <td>23890098</td>\n",
              "      <td>Shlykov, a hard-working taxi driver and Lyosha...</td>\n",
              "    </tr>\n",
              "    <tr>\n",
              "      <th>1</th>\n",
              "      <td>31186339</td>\n",
              "      <td>The nation of Panem consists of a wealthy Capi...</td>\n",
              "    </tr>\n",
              "    <tr>\n",
              "      <th>2</th>\n",
              "      <td>20663735</td>\n",
              "      <td>Poovalli Induchoodan  is sentenced for six yea...</td>\n",
              "    </tr>\n",
              "    <tr>\n",
              "      <th>3</th>\n",
              "      <td>2231378</td>\n",
              "      <td>The Lemon Drop Kid , a New York City swindler,...</td>\n",
              "    </tr>\n",
              "    <tr>\n",
              "      <th>4</th>\n",
              "      <td>595909</td>\n",
              "      <td>Seventh-day Adventist Church pastor Michael Ch...</td>\n",
              "    </tr>\n",
              "  </tbody>\n",
              "</table>\n",
              "</div>"
            ],
            "text/plain": [
              "   movie_id                                               plot\n",
              "0  23890098  Shlykov, a hard-working taxi driver and Lyosha...\n",
              "1  31186339  The nation of Panem consists of a wealthy Capi...\n",
              "2  20663735  Poovalli Induchoodan  is sentenced for six yea...\n",
              "3   2231378  The Lemon Drop Kid , a New York City swindler,...\n",
              "4    595909  Seventh-day Adventist Church pastor Michael Ch..."
            ]
          },
          "metadata": {
            "tags": []
          },
          "execution_count": 13
        }
      ]
    },
    {
      "cell_type": "code",
      "metadata": {
        "id": "cesnXX6Qjn27",
        "colab_type": "code",
        "colab": {
          "base_uri": "https://localhost:8080/",
          "height": 142
        },
        "outputId": "1b585dee-c949-4802-d09c-7dd5387f10e9"
      },
      "source": [
        "meta['movie_id'] = meta['movie_id'].astype(str)\n",
        "\n",
        "# merge meta with movies\n",
        "movies = pd.merge(movies, meta[['movie_id', 'movie_name', 'genre']], on = 'movie_id')\n",
        "\n",
        "movies.head(3)"
      ],
      "execution_count": 14,
      "outputs": [
        {
          "output_type": "execute_result",
          "data": {
            "text/html": [
              "<div>\n",
              "<style scoped>\n",
              "    .dataframe tbody tr th:only-of-type {\n",
              "        vertical-align: middle;\n",
              "    }\n",
              "\n",
              "    .dataframe tbody tr th {\n",
              "        vertical-align: top;\n",
              "    }\n",
              "\n",
              "    .dataframe thead th {\n",
              "        text-align: right;\n",
              "    }\n",
              "</style>\n",
              "<table border=\"1\" class=\"dataframe\">\n",
              "  <thead>\n",
              "    <tr style=\"text-align: right;\">\n",
              "      <th></th>\n",
              "      <th>movie_id</th>\n",
              "      <th>plot</th>\n",
              "      <th>movie_name</th>\n",
              "      <th>genre</th>\n",
              "    </tr>\n",
              "  </thead>\n",
              "  <tbody>\n",
              "    <tr>\n",
              "      <th>0</th>\n",
              "      <td>23890098</td>\n",
              "      <td>Shlykov, a hard-working taxi driver and Lyosha...</td>\n",
              "      <td>Taxi Blues</td>\n",
              "      <td>{\"/m/07s9rl0\": \"Drama\", \"/m/03q4nz\": \"World ci...</td>\n",
              "    </tr>\n",
              "    <tr>\n",
              "      <th>1</th>\n",
              "      <td>31186339</td>\n",
              "      <td>The nation of Panem consists of a wealthy Capi...</td>\n",
              "      <td>The Hunger Games</td>\n",
              "      <td>{\"/m/03btsm8\": \"Action/Adventure\", \"/m/06n90\":...</td>\n",
              "    </tr>\n",
              "    <tr>\n",
              "      <th>2</th>\n",
              "      <td>20663735</td>\n",
              "      <td>Poovalli Induchoodan  is sentenced for six yea...</td>\n",
              "      <td>Narasimham</td>\n",
              "      <td>{\"/m/04t36\": \"Musical\", \"/m/02kdv5l\": \"Action\"...</td>\n",
              "    </tr>\n",
              "  </tbody>\n",
              "</table>\n",
              "</div>"
            ],
            "text/plain": [
              "   movie_id  ...                                              genre\n",
              "0  23890098  ...  {\"/m/07s9rl0\": \"Drama\", \"/m/03q4nz\": \"World ci...\n",
              "1  31186339  ...  {\"/m/03btsm8\": \"Action/Adventure\", \"/m/06n90\":...\n",
              "2  20663735  ...  {\"/m/04t36\": \"Musical\", \"/m/02kdv5l\": \"Action\"...\n",
              "\n",
              "[3 rows x 4 columns]"
            ]
          },
          "metadata": {
            "tags": []
          },
          "execution_count": 14
        }
      ]
    },
    {
      "cell_type": "code",
      "metadata": {
        "id": "5NajUBEjjqiw",
        "colab_type": "code",
        "colab": {
          "base_uri": "https://localhost:8080/",
          "height": 34
        },
        "outputId": "d0981d1f-b143-4bed-e612-b49d88bc8f57"
      },
      "source": [
        "json.loads(movies['genre'][0])"
      ],
      "execution_count": 15,
      "outputs": [
        {
          "output_type": "execute_result",
          "data": {
            "text/plain": [
              "{'/m/03q4nz': 'World cinema', '/m/07s9rl0': 'Drama'}"
            ]
          },
          "metadata": {
            "tags": []
          },
          "execution_count": 15
        }
      ]
    },
    {
      "cell_type": "code",
      "metadata": {
        "id": "m9P32yW4jtle",
        "colab_type": "code",
        "colab": {}
      },
      "source": [
        "genres = [] \n",
        "\n",
        "# extract genres\n",
        "for i in movies['genre']: \n",
        "  genres.append(list(json.loads(i).values())) \n",
        "\n",
        "# add to 'movies' dataframe  \n",
        "movies['genre_new'] = genres"
      ],
      "execution_count": 16,
      "outputs": []
    },
    {
      "cell_type": "code",
      "metadata": {
        "id": "2MlThxrdjvso",
        "colab_type": "code",
        "colab": {
          "base_uri": "https://localhost:8080/",
          "height": 204
        },
        "outputId": "31790b33-2f0d-473f-d25c-e1a566094679"
      },
      "source": [
        "movies.head()"
      ],
      "execution_count": 17,
      "outputs": [
        {
          "output_type": "execute_result",
          "data": {
            "text/html": [
              "<div>\n",
              "<style scoped>\n",
              "    .dataframe tbody tr th:only-of-type {\n",
              "        vertical-align: middle;\n",
              "    }\n",
              "\n",
              "    .dataframe tbody tr th {\n",
              "        vertical-align: top;\n",
              "    }\n",
              "\n",
              "    .dataframe thead th {\n",
              "        text-align: right;\n",
              "    }\n",
              "</style>\n",
              "<table border=\"1\" class=\"dataframe\">\n",
              "  <thead>\n",
              "    <tr style=\"text-align: right;\">\n",
              "      <th></th>\n",
              "      <th>movie_id</th>\n",
              "      <th>plot</th>\n",
              "      <th>movie_name</th>\n",
              "      <th>genre</th>\n",
              "      <th>genre_new</th>\n",
              "    </tr>\n",
              "  </thead>\n",
              "  <tbody>\n",
              "    <tr>\n",
              "      <th>0</th>\n",
              "      <td>23890098</td>\n",
              "      <td>Shlykov, a hard-working taxi driver and Lyosha...</td>\n",
              "      <td>Taxi Blues</td>\n",
              "      <td>{\"/m/07s9rl0\": \"Drama\", \"/m/03q4nz\": \"World ci...</td>\n",
              "      <td>[Drama, World cinema]</td>\n",
              "    </tr>\n",
              "    <tr>\n",
              "      <th>1</th>\n",
              "      <td>31186339</td>\n",
              "      <td>The nation of Panem consists of a wealthy Capi...</td>\n",
              "      <td>The Hunger Games</td>\n",
              "      <td>{\"/m/03btsm8\": \"Action/Adventure\", \"/m/06n90\":...</td>\n",
              "      <td>[Action/Adventure, Science Fiction, Action, Dr...</td>\n",
              "    </tr>\n",
              "    <tr>\n",
              "      <th>2</th>\n",
              "      <td>20663735</td>\n",
              "      <td>Poovalli Induchoodan  is sentenced for six yea...</td>\n",
              "      <td>Narasimham</td>\n",
              "      <td>{\"/m/04t36\": \"Musical\", \"/m/02kdv5l\": \"Action\"...</td>\n",
              "      <td>[Musical, Action, Drama, Bollywood]</td>\n",
              "    </tr>\n",
              "    <tr>\n",
              "      <th>3</th>\n",
              "      <td>2231378</td>\n",
              "      <td>The Lemon Drop Kid , a New York City swindler,...</td>\n",
              "      <td>The Lemon Drop Kid</td>\n",
              "      <td>{\"/m/06qm3\": \"Screwball comedy\", \"/m/01z4y\": \"...</td>\n",
              "      <td>[Screwball comedy, Comedy]</td>\n",
              "    </tr>\n",
              "    <tr>\n",
              "      <th>4</th>\n",
              "      <td>595909</td>\n",
              "      <td>Seventh-day Adventist Church pastor Michael Ch...</td>\n",
              "      <td>A Cry in the Dark</td>\n",
              "      <td>{\"/m/0lsxr\": \"Crime Fiction\", \"/m/07s9rl0\": \"D...</td>\n",
              "      <td>[Crime Fiction, Drama, Docudrama, World cinema...</td>\n",
              "    </tr>\n",
              "  </tbody>\n",
              "</table>\n",
              "</div>"
            ],
            "text/plain": [
              "   movie_id  ...                                          genre_new\n",
              "0  23890098  ...                              [Drama, World cinema]\n",
              "1  31186339  ...  [Action/Adventure, Science Fiction, Action, Dr...\n",
              "2  20663735  ...                [Musical, Action, Drama, Bollywood]\n",
              "3   2231378  ...                         [Screwball comedy, Comedy]\n",
              "4    595909  ...  [Crime Fiction, Drama, Docudrama, World cinema...\n",
              "\n",
              "[5 rows x 5 columns]"
            ]
          },
          "metadata": {
            "tags": []
          },
          "execution_count": 17
        }
      ]
    },
    {
      "cell_type": "code",
      "metadata": {
        "id": "ZSSa_xYNjzWk",
        "colab_type": "code",
        "colab": {
          "base_uri": "https://localhost:8080/",
          "height": 204
        },
        "outputId": "cea32a62-dbf0-4d63-ffa2-7d45e6c30c8b"
      },
      "source": [
        "movies=movies[['plot','genre_new']]\n",
        "movies.head()"
      ],
      "execution_count": 18,
      "outputs": [
        {
          "output_type": "execute_result",
          "data": {
            "text/html": [
              "<div>\n",
              "<style scoped>\n",
              "    .dataframe tbody tr th:only-of-type {\n",
              "        vertical-align: middle;\n",
              "    }\n",
              "\n",
              "    .dataframe tbody tr th {\n",
              "        vertical-align: top;\n",
              "    }\n",
              "\n",
              "    .dataframe thead th {\n",
              "        text-align: right;\n",
              "    }\n",
              "</style>\n",
              "<table border=\"1\" class=\"dataframe\">\n",
              "  <thead>\n",
              "    <tr style=\"text-align: right;\">\n",
              "      <th></th>\n",
              "      <th>plot</th>\n",
              "      <th>genre_new</th>\n",
              "    </tr>\n",
              "  </thead>\n",
              "  <tbody>\n",
              "    <tr>\n",
              "      <th>0</th>\n",
              "      <td>Shlykov, a hard-working taxi driver and Lyosha...</td>\n",
              "      <td>[Drama, World cinema]</td>\n",
              "    </tr>\n",
              "    <tr>\n",
              "      <th>1</th>\n",
              "      <td>The nation of Panem consists of a wealthy Capi...</td>\n",
              "      <td>[Action/Adventure, Science Fiction, Action, Dr...</td>\n",
              "    </tr>\n",
              "    <tr>\n",
              "      <th>2</th>\n",
              "      <td>Poovalli Induchoodan  is sentenced for six yea...</td>\n",
              "      <td>[Musical, Action, Drama, Bollywood]</td>\n",
              "    </tr>\n",
              "    <tr>\n",
              "      <th>3</th>\n",
              "      <td>The Lemon Drop Kid , a New York City swindler,...</td>\n",
              "      <td>[Screwball comedy, Comedy]</td>\n",
              "    </tr>\n",
              "    <tr>\n",
              "      <th>4</th>\n",
              "      <td>Seventh-day Adventist Church pastor Michael Ch...</td>\n",
              "      <td>[Crime Fiction, Drama, Docudrama, World cinema...</td>\n",
              "    </tr>\n",
              "  </tbody>\n",
              "</table>\n",
              "</div>"
            ],
            "text/plain": [
              "                                                plot                                          genre_new\n",
              "0  Shlykov, a hard-working taxi driver and Lyosha...                              [Drama, World cinema]\n",
              "1  The nation of Panem consists of a wealthy Capi...  [Action/Adventure, Science Fiction, Action, Dr...\n",
              "2  Poovalli Induchoodan  is sentenced for six yea...                [Musical, Action, Drama, Bollywood]\n",
              "3  The Lemon Drop Kid , a New York City swindler,...                         [Screwball comedy, Comedy]\n",
              "4  Seventh-day Adventist Church pastor Michael Ch...  [Crime Fiction, Drama, Docudrama, World cinema..."
            ]
          },
          "metadata": {
            "tags": []
          },
          "execution_count": 18
        }
      ]
    },
    {
      "cell_type": "code",
      "metadata": {
        "id": "axawV5TNj2h1",
        "colab_type": "code",
        "colab": {}
      },
      "source": [
        "all_genres = sum(genres,[])"
      ],
      "execution_count": 19,
      "outputs": []
    },
    {
      "cell_type": "code",
      "metadata": {
        "id": "CSivsJpVj6Z3",
        "colab_type": "code",
        "colab": {
          "base_uri": "https://localhost:8080/",
          "height": 189
        },
        "outputId": "c38d902e-087f-4d9a-e39d-214f970a27db"
      },
      "source": [
        "all_genres[:10]"
      ],
      "execution_count": 20,
      "outputs": [
        {
          "output_type": "execute_result",
          "data": {
            "text/plain": [
              "['Drama',\n",
              " 'World cinema',\n",
              " 'Action/Adventure',\n",
              " 'Science Fiction',\n",
              " 'Action',\n",
              " 'Drama',\n",
              " 'Musical',\n",
              " 'Action',\n",
              " 'Drama',\n",
              " 'Bollywood']"
            ]
          },
          "metadata": {
            "tags": []
          },
          "execution_count": 20
        }
      ]
    },
    {
      "cell_type": "code",
      "metadata": {
        "id": "He8_eK0_j8zg",
        "colab_type": "code",
        "colab": {
          "base_uri": "https://localhost:8080/",
          "height": 34
        },
        "outputId": "daf16393-1a9e-49b6-f718-9f50913d3934"
      },
      "source": [
        "num_genres = len(set(all_genres))\n",
        "num_genres"
      ],
      "execution_count": 21,
      "outputs": [
        {
          "output_type": "execute_result",
          "data": {
            "text/plain": [
              "363"
            ]
          },
          "metadata": {
            "tags": []
          },
          "execution_count": 21
        }
      ]
    },
    {
      "cell_type": "code",
      "metadata": {
        "id": "B-zRsrf5j_ZD",
        "colab_type": "code",
        "colab": {}
      },
      "source": [
        "# plt.figure(figsize = (20,20)) \n",
        "# wc = WordCloud(max_words = 2000 , width = 1600 , height = 800 , stopwords = STOPWORDS).generate(\" \".join(movies['plot']))\n",
        "# plt.imshow(wc, interpolation = 'bilinear')"
      ],
      "execution_count": 22,
      "outputs": []
    },
    {
      "cell_type": "code",
      "metadata": {
        "id": "89-tKXXrl39s",
        "colab_type": "code",
        "colab": {
          "base_uri": "https://localhost:8080/",
          "height": 877
        },
        "outputId": "352ad963-9950-4877-c440-5c7b40a26e47"
      },
      "source": [
        "all_genres = nltk.FreqDist(all_genres) \n",
        "\n",
        "# create dataframe\n",
        "all_genres_df = pd.DataFrame({'Genre': list(all_genres.keys()), \n",
        "                              'Count': list(all_genres.values())})\n",
        "\n",
        "g = all_genres_df.nlargest(columns=\"Count\", n = 50) \n",
        "plt.figure(figsize=(12,15)) \n",
        "ax = sns.barplot(data=g, x= \"Count\", y = \"Genre\") \n",
        "ax.set(ylabel = 'Count') \n",
        "plt.show()"
      ],
      "execution_count": 23,
      "outputs": [
        {
          "output_type": "display_data",
          "data": {
            "image/png": "[encoded data removed]",
            "text/plain": [
              "<Figure size 864x1080 with 1 Axes>"
            ]
          },
          "metadata": {
            "tags": [],
            "needs_background": "light"
          }
        }
      ]
    },
    {
      "cell_type": "code",
      "metadata": {
        "id": "cvRBAxjml9oL",
        "colab_type": "code",
        "colab": {}
      },
      "source": [
        "# maxi = max(all_genres.values())\n",
        "# maxi"
      ],
      "execution_count": 24,
      "outputs": []
    },
    {
      "cell_type": "code",
      "metadata": {
        "id": "w8SCeSBdmDOh",
        "colab_type": "code",
        "colab": {}
      },
      "source": [
        "# genre_weights = {}"
      ],
      "execution_count": 25,
      "outputs": []
    },
    {
      "cell_type": "code",
      "metadata": {
        "id": "QAoBoHL7mF2I",
        "colab_type": "code",
        "colab": {}
      },
      "source": [
        "# for gen in all_genres:\n",
        "#   genre_weights[gen] = maxi/all_genres[gen]"
      ],
      "execution_count": 26,
      "outputs": []
    },
    {
      "cell_type": "code",
      "metadata": {
        "id": "7Z2G2bHumK1b",
        "colab_type": "code",
        "colab": {}
      },
      "source": [
        "# genre_weights"
      ],
      "execution_count": 27,
      "outputs": []
    },
    {
      "cell_type": "code",
      "metadata": {
        "id": "I0r6GaA8mNrq",
        "colab_type": "code",
        "colab": {
          "base_uri": "https://localhost:8080/",
          "height": 1000
        },
        "outputId": "cccee3d3-bd3f-467d-ce2a-877c8d5d1995"
      },
      "source": [
        "all_genres"
      ],
      "execution_count": 28,
      "outputs": [
        {
          "output_type": "execute_result",
          "data": {
            "text/plain": [
              "FreqDist({'Absurdism': 79,\n",
              "          'Acid western': 7,\n",
              "          'Action': 5868,\n",
              "          'Action Comedy': 142,\n",
              "          'Action Thrillers': 405,\n",
              "          'Action/Adventure': 3553,\n",
              "          'Addiction Drama': 42,\n",
              "          'Adult': 117,\n",
              "          'Adventure': 3248,\n",
              "          'Adventure Comedy': 123,\n",
              "          'Airplanes and airports': 53,\n",
              "          'Albino bias': 14,\n",
              "          'Alien Film': 97,\n",
              "          'Alien invasion': 4,\n",
              "          'Americana': 91,\n",
              "          'Animal Picture': 141,\n",
              "          'Animals': 15,\n",
              "          'Animated Musical': 43,\n",
              "          'Animated cartoon': 94,\n",
              "          'Animation': 2441,\n",
              "          'Anime': 305,\n",
              "          'Anthology': 7,\n",
              "          'Anthropology': 2,\n",
              "          'Anti-war': 32,\n",
              "          'Anti-war film': 31,\n",
              "          'Apocalyptic and post-apocalyptic fiction': 32,\n",
              "          'Archaeology': 10,\n",
              "          'Archives and records': 6,\n",
              "          'Art film': 351,\n",
              "          'Auto racing': 50,\n",
              "          'Avant-garde': 83,\n",
              "          'B-Western': 19,\n",
              "          'B-movie': 386,\n",
              "          'Backstage Musical': 20,\n",
              "          'Baseball': 9,\n",
              "          'Beach Film': 19,\n",
              "          'Beach Party film': 2,\n",
              "          'Bengali Cinema': 10,\n",
              "          'Biker Film': 20,\n",
              "          'Biographical film': 625,\n",
              "          'Biography': 592,\n",
              "          'Biopic [feature]': 365,\n",
              "          'Black comedy': 834,\n",
              "          'Black-and-white': 3731,\n",
              "          'Blaxploitation': 79,\n",
              "          'Bloopers & Candid Camera': 3,\n",
              "          'Bollywood': 1058,\n",
              "          'Boxing': 51,\n",
              "          'Breakdance': 1,\n",
              "          'British Empire Film': 20,\n",
              "          'British New Wave': 13,\n",
              "          'Bruceploitation': 3,\n",
              "          'Buddy Picture': 1,\n",
              "          'Buddy cop': 11,\n",
              "          'Buddy film': 325,\n",
              "          'Business': 4,\n",
              "          'C-Movie': 1,\n",
              "          'Camp': 3,\n",
              "          'Caper story': 80,\n",
              "          'Cavalry Film': 12,\n",
              "          'Chase Movie': 100,\n",
              "          'Chick flick': 1,\n",
              "          'Childhood Drama': 111,\n",
              "          \"Children's\": 412,\n",
              "          \"Children's Entertainment\": 11,\n",
              "          \"Children's Fantasy\": 244,\n",
              "          \"Children's Issues\": 1,\n",
              "          \"Children's/Family\": 759,\n",
              "          'Chinese Movies': 998,\n",
              "          'Christian film': 116,\n",
              "          'Christmas movie': 80,\n",
              "          'Clay animation': 4,\n",
              "          'Cold War': 10,\n",
              "          'Combat Films': 84,\n",
              "          'Comdedy': 1,\n",
              "          'Comedy': 10467,\n",
              "          'Comedy Thriller': 78,\n",
              "          'Comedy Western': 53,\n",
              "          'Comedy film': 1778,\n",
              "          'Comedy horror': 19,\n",
              "          'Comedy of Errors': 169,\n",
              "          'Comedy of manners': 212,\n",
              "          'Comedy-drama': 1261,\n",
              "          'Coming of age': 741,\n",
              "          'Coming-of-age film': 4,\n",
              "          'Computer Animation': 195,\n",
              "          'Computers': 4,\n",
              "          'Concert film': 11,\n",
              "          'Conspiracy fiction': 2,\n",
              "          'Costume Adventure': 77,\n",
              "          'Costume Horror': 55,\n",
              "          'Costume drama': 367,\n",
              "          'Courtroom Comedy': 6,\n",
              "          'Courtroom Drama': 184,\n",
              "          'Creature Film': 347,\n",
              "          'Crime': 26,\n",
              "          'Crime Comedy': 231,\n",
              "          'Crime Drama': 391,\n",
              "          'Crime Fiction': 4275,\n",
              "          'Crime Thriller': 1682,\n",
              "          'Cult': 680,\n",
              "          'Culture & Society': 204,\n",
              "          'Cyberpunk': 5,\n",
              "          'Czechoslovak New Wave': 7,\n",
              "          'Dance': 69,\n",
              "          'Demonic child': 6,\n",
              "          'Detective': 282,\n",
              "          'Detective fiction': 225,\n",
              "          'Disaster': 238,\n",
              "          'Docudrama': 252,\n",
              "          'Documentary': 1213,\n",
              "          'Dogme 95': 17,\n",
              "          'Domestic Comedy': 172,\n",
              "          'Doomsday film': 112,\n",
              "          'Drama': 19134,\n",
              "          'Dystopia': 84,\n",
              "          'Ealing Comedies': 12,\n",
              "          'Early Black Cinema': 6,\n",
              "          'Education': 3,\n",
              "          'Educational': 16,\n",
              "          'Ensemble Film': 349,\n",
              "          'Environmental Science': 6,\n",
              "          'Epic': 196,\n",
              "          'Epic Western': 17,\n",
              "          'Erotic Drama': 112,\n",
              "          'Erotic thriller': 170,\n",
              "          'Erotica': 235,\n",
              "          'Escape Film': 45,\n",
              "          'Essay Film': 8,\n",
              "          'Existentialism': 34,\n",
              "          'Experimental film': 107,\n",
              "          'Exploitation': 12,\n",
              "          'Expressionism': 2,\n",
              "          'Extreme Sports': 10,\n",
              "          'Fairy tale': 48,\n",
              "          'Family & Personal Relationships': 10,\n",
              "          'Family Drama': 766,\n",
              "          'Family Film': 3219,\n",
              "          'Family-Oriented Adventure': 213,\n",
              "          'Fan film': 18,\n",
              "          'Fantasy': 2012,\n",
              "          'Fantasy Adventure': 190,\n",
              "          'Fantasy Comedy': 196,\n",
              "          'Fantasy Drama': 16,\n",
              "          'Feature film': 8,\n",
              "          'Female buddy film': 4,\n",
              "          'Feminist Film': 76,\n",
              "          'Fictional film': 8,\n",
              "          'Filipino': 10,\n",
              "          'Filipino Movies': 220,\n",
              "          'Film': 19,\n",
              "          'Film & Television History': 11,\n",
              "          'Film adaptation': 1225,\n",
              "          'Film noir': 524,\n",
              "          'Film à clef': 29,\n",
              "          'Film-Opera': 3,\n",
              "          'Filmed Play': 3,\n",
              "          'Finance & Investing': 4,\n",
              "          'Foreign legion': 10,\n",
              "          'Future noir': 29,\n",
              "          'Gangster Film': 338,\n",
              "          'Gay': 219,\n",
              "          'Gay Interest': 217,\n",
              "          'Gay Themed': 264,\n",
              "          'Gay pornography': 21,\n",
              "          'Gender Issues': 19,\n",
              "          'Giallo': 25,\n",
              "          'Glamorized Spy Film': 45,\n",
              "          'Goat gland': 4,\n",
              "          'Gothic Film': 62,\n",
              "          'Graphic & Applied Arts': 4,\n",
              "          'Gross out': 58,\n",
              "          'Gross-out film': 58,\n",
              "          'Gulf War': 5,\n",
              "          'Hagiography': 19,\n",
              "          'Hardcore pornography': 7,\n",
              "          'Haunted House Film': 65,\n",
              "          'Health & Fitness': 3,\n",
              "          'Heaven-Can-Wait Fantasies': 21,\n",
              "          'Heavenly Comedy': 27,\n",
              "          'Heist': 145,\n",
              "          'Hip hop movies': 31,\n",
              "          'Historical Documentaries': 2,\n",
              "          'Historical Epic': 63,\n",
              "          'Historical drama': 107,\n",
              "          'Historical fiction': 305,\n",
              "          'History': 358,\n",
              "          'Holiday Film': 94,\n",
              "          'Homoeroticism': 1,\n",
              "          'Horror': 4082,\n",
              "          'Horror Comedy': 206,\n",
              "          'Horse racing': 8,\n",
              "          'Humour': 4,\n",
              "          'Hybrid Western': 29,\n",
              "          'Illnesses & Disabilities': 14,\n",
              "          'Indian Western': 18,\n",
              "          'Indie': 3668,\n",
              "          'Inspirational Drama': 27,\n",
              "          'Instrumental Music': 4,\n",
              "          'Interpersonal Relationships': 21,\n",
              "          'Inventions & Innovations': 4,\n",
              "          'Japanese Movies': 1290,\n",
              "          'Journalism': 2,\n",
              "          'Jukebox musical': 7,\n",
              "          'Jungle Film': 62,\n",
              "          'Juvenile Delinquency Film': 42,\n",
              "          'Kafkaesque': 6,\n",
              "          'Kitchen sink realism': 14,\n",
              "          'LGBT': 825,\n",
              "          'Language & Literature': 8,\n",
              "          'Latino': 3,\n",
              "          'Law & Crime': 21,\n",
              "          'Legal drama': 8,\n",
              "          'Libraries and librarians': 5,\n",
              "          'Linguistics': 1,\n",
              "          'Live action': 2,\n",
              "          'Malayalam Cinema': 12,\n",
              "          'Marriage Drama': 137,\n",
              "          'Martial Arts Film': 706,\n",
              "          'Master Criminal Films': 25,\n",
              "          'Media Satire': 71,\n",
              "          'Media Studies': 7,\n",
              "          'Medical fiction': 56,\n",
              "          'Melodrama': 499,\n",
              "          'Mockumentary': 97,\n",
              "          'Mondo film': 5,\n",
              "          'Monster': 113,\n",
              "          'Monster movie': 168,\n",
              "          'Movie serial': 11,\n",
              "          'Movies About Gladiators': 5,\n",
              "          'Mumblecore': 7,\n",
              "          'Music': 356,\n",
              "          'Musical': 2414,\n",
              "          'Musical Drama': 136,\n",
              "          'Musical comedy': 175,\n",
              "          'Mystery': 2119,\n",
              "          'Mythological Fantasy': 26,\n",
              "          'Natural disaster': 14,\n",
              "          'Natural horror films': 153,\n",
              "          'Nature': 17,\n",
              "          'Neo-noir': 57,\n",
              "          'Neorealism': 1,\n",
              "          'New Hollywood': 86,\n",
              "          'New Queer Cinema': 1,\n",
              "          'News': 7,\n",
              "          'Ninja movie': 1,\n",
              "          'Northern': 7,\n",
              "          'Nuclear warfare': 3,\n",
              "          'Operetta': 4,\n",
              "          'Outlaw': 5,\n",
              "          'Outlaw biker film': 12,\n",
              "          'Parkour in popular culture': 6,\n",
              "          'Parody': 767,\n",
              "          'Patriotic film': 1,\n",
              "          'Period Horror': 2,\n",
              "          'Period piece': 1321,\n",
              "          'Pinku eiga': 24,\n",
              "          'Plague': 4,\n",
              "          'Point of view shot': 3,\n",
              "          'Political Documetary': 1,\n",
              "          'Political cinema': 176,\n",
              "          'Political drama': 531,\n",
              "          'Political satire': 78,\n",
              "          'Political thriller': 195,\n",
              "          'Pornographic movie': 145,\n",
              "          'Pornography': 7,\n",
              "          'Pre-Code': 130,\n",
              "          'Prison': 90,\n",
              "          'Prison escape': 2,\n",
              "          'Prison film': 12,\n",
              "          'Private military company': 2,\n",
              "          'Propaganda film': 77,\n",
              "          'Psycho-biddy': 10,\n",
              "          'Psychological horror': 3,\n",
              "          'Psychological thriller': 1138,\n",
              "          'Punk rock': 23,\n",
              "          'Race movie': 3,\n",
              "          'Reboot': 8,\n",
              "          'Religious Film': 61,\n",
              "          'Remake': 85,\n",
              "          'Revenge': 2,\n",
              "          'Revisionist Fairy Tale': 2,\n",
              "          'Revisionist Western': 60,\n",
              "          'Road movie': 268,\n",
              "          'Road-Horror': 19,\n",
              "          'Roadshow theatrical release': 32,\n",
              "          'Roadshow/Carny': 4,\n",
              "          'Rockumentary': 40,\n",
              "          'Romance Film': 6666,\n",
              "          'Romantic comedy': 2075,\n",
              "          'Romantic drama': 2572,\n",
              "          'Romantic fantasy': 59,\n",
              "          'Romantic thriller': 1,\n",
              "          'Samurai cinema': 27,\n",
              "          'Satire': 532,\n",
              "          'School story': 4,\n",
              "          'Sci Fi Pictures original films': 4,\n",
              "          'Sci-Fi Adventure': 32,\n",
              "          'Sci-Fi Horror': 124,\n",
              "          'Sci-Fi Thriller': 5,\n",
              "          'Science Fiction': 2339,\n",
              "          'Science fiction Western': 5,\n",
              "          'Screwball comedy': 246,\n",
              "          'Sex comedy': 253,\n",
              "          'Sexploitation': 82,\n",
              "          'Short Film': 3192,\n",
              "          'Silent film': 1199,\n",
              "          'Silhouette animation': 1,\n",
              "          'Singing cowboy': 3,\n",
              "          'Slapstick': 518,\n",
              "          'Slasher': 654,\n",
              "          'Slice of life story': 94,\n",
              "          'Social issues': 101,\n",
              "          'Social problem film': 92,\n",
              "          'Softcore Porn': 41,\n",
              "          'Space opera': 5,\n",
              "          'Space western': 12,\n",
              "          'Spaghetti Western': 56,\n",
              "          'Splatter film': 28,\n",
              "          'Sponsored film': 4,\n",
              "          'Sports': 672,\n",
              "          'Spy': 342,\n",
              "          'Stand-up comedy': 12,\n",
              "          'Star vehicle': 2,\n",
              "          'Statutory rape': 1,\n",
              "          'Steampunk': 30,\n",
              "          'Stoner film': 46,\n",
              "          'Stop motion': 134,\n",
              "          'Superhero': 111,\n",
              "          'Superhero movie': 258,\n",
              "          'Supermarionation': 3,\n",
              "          'Supernatural': 571,\n",
              "          'Surrealism': 99,\n",
              "          'Suspense': 651,\n",
              "          'Swashbuckler films': 104,\n",
              "          'Sword and Sandal': 16,\n",
              "          'Sword and sorcery': 39,\n",
              "          'Sword and sorcery films': 37,\n",
              "          'Tamil cinema': 63,\n",
              "          'Teen': 824,\n",
              "          'Television movie': 665,\n",
              "          'The Netherlands in World War II': 2,\n",
              "          'Therimin music': 4,\n",
              "          'Thriller': 6530,\n",
              "          'Time travel': 77,\n",
              "          'Tokusatsu': 2,\n",
              "          'Tollywood': 32,\n",
              "          'Tragedy': 79,\n",
              "          'Tragicomedy': 51,\n",
              "          'Travel': 14,\n",
              "          'Vampire movies': 3,\n",
              "          'War effort': 1,\n",
              "          'War film': 1556,\n",
              "          'Werewolf fiction': 4,\n",
              "          'Western': 1022,\n",
              "          'Whodunit': 43,\n",
              "          'Women in prison films': 13,\n",
              "          'Workplace Comedy': 84,\n",
              "          'World History': 10,\n",
              "          'World cinema': 5153,\n",
              "          'Wuxia': 79,\n",
              "          'Z movie': 2,\n",
              "          'Zombie Film': 234})"
            ]
          },
          "metadata": {
            "tags": []
          },
          "execution_count": 28
        }
      ]
    },
    {
      "cell_type": "code",
      "metadata": {
        "id": "ZCDeMiyqmRL-",
        "colab_type": "code",
        "colab": {
          "base_uri": "https://localhost:8080/",
          "height": 34
        },
        "outputId": "3a4f0036-9aa9-4b4c-aaf6-dcbb374a347b"
      },
      "source": [
        "from sklearn.preprocessing import MultiLabelBinarizer\n",
        "\n",
        "multilabel_binarizer = MultiLabelBinarizer()\n",
        "multilabel_binarizer.fit(movies['genre_new'])"
      ],
      "execution_count": 29,
      "outputs": [
        {
          "output_type": "execute_result",
          "data": {
            "text/plain": [
              "MultiLabelBinarizer(classes=None, sparse_output=False)"
            ]
          },
          "metadata": {
            "tags": []
          },
          "execution_count": 29
        }
      ]
    },
    {
      "cell_type": "code",
      "metadata": {
        "id": "W3qPsVjZsoVr",
        "colab_type": "code",
        "colab": {}
      },
      "source": [
        "labels = multilabel_binarizer.classes_"
      ],
      "execution_count": 30,
      "outputs": []
    },
    {
      "cell_type": "code",
      "metadata": {
        "id": "WY_PD6IKmUfh",
        "colab_type": "code",
        "colab": {
          "base_uri": "https://localhost:8080/",
          "height": 1000
        },
        "outputId": "97137872-ebee-4f55-a4ba-48313aa9750a"
      },
      "source": [
        "labels"
      ],
      "execution_count": 31,
      "outputs": [
        {
          "output_type": "execute_result",
          "data": {
            "text/plain": [
              "array(['Absurdism', 'Acid western', 'Action', 'Action Comedy',\n",
              "       'Action Thrillers', 'Action/Adventure', 'Addiction Drama', 'Adult',\n",
              "       'Adventure', 'Adventure Comedy', 'Airplanes and airports',\n",
              "       'Albino bias', 'Alien Film', 'Alien invasion', 'Americana',\n",
              "       'Animal Picture', 'Animals', 'Animated Musical',\n",
              "       'Animated cartoon', 'Animation', 'Anime', 'Anthology',\n",
              "       'Anthropology', 'Anti-war', 'Anti-war film',\n",
              "       'Apocalyptic and post-apocalyptic fiction', 'Archaeology',\n",
              "       'Archives and records', 'Art film', 'Auto racing', 'Avant-garde',\n",
              "       'B-Western', 'B-movie', 'Backstage Musical', 'Baseball',\n",
              "       'Beach Film', 'Beach Party film', 'Bengali Cinema', 'Biker Film',\n",
              "       'Biographical film', 'Biography', 'Biopic [feature]',\n",
              "       'Black comedy', 'Black-and-white', 'Blaxploitation',\n",
              "       'Bloopers & Candid Camera', 'Bollywood', 'Boxing', 'Breakdance',\n",
              "       'British Empire Film', 'British New Wave', 'Bruceploitation',\n",
              "       'Buddy Picture', 'Buddy cop', 'Buddy film', 'Business', 'C-Movie',\n",
              "       'Camp', 'Caper story', 'Cavalry Film', 'Chase Movie',\n",
              "       'Chick flick', 'Childhood Drama', \"Children's\",\n",
              "       \"Children's Entertainment\", \"Children's Fantasy\",\n",
              "       \"Children's Issues\", \"Children's/Family\", 'Chinese Movies',\n",
              "       'Christian film', 'Christmas movie', 'Clay animation', 'Cold War',\n",
              "       'Combat Films', 'Comdedy', 'Comedy', 'Comedy Thriller',\n",
              "       'Comedy Western', 'Comedy film', 'Comedy horror',\n",
              "       'Comedy of Errors', 'Comedy of manners', 'Comedy-drama',\n",
              "       'Coming of age', 'Coming-of-age film', 'Computer Animation',\n",
              "       'Computers', 'Concert film', 'Conspiracy fiction',\n",
              "       'Costume Adventure', 'Costume Horror', 'Costume drama',\n",
              "       'Courtroom Comedy', 'Courtroom Drama', 'Creature Film', 'Crime',\n",
              "       'Crime Comedy', 'Crime Drama', 'Crime Fiction', 'Crime Thriller',\n",
              "       'Cult', 'Culture & Society', 'Cyberpunk', 'Czechoslovak New Wave',\n",
              "       'Dance', 'Demonic child', 'Detective', 'Detective fiction',\n",
              "       'Disaster', 'Docudrama', 'Documentary', 'Dogme 95',\n",
              "       'Domestic Comedy', 'Doomsday film', 'Drama', 'Dystopia',\n",
              "       'Ealing Comedies', 'Early Black Cinema', 'Education',\n",
              "       'Educational', 'Ensemble Film', 'Environmental Science', 'Epic',\n",
              "       'Epic Western', 'Erotic Drama', 'Erotic thriller', 'Erotica',\n",
              "       'Escape Film', 'Essay Film', 'Existentialism', 'Experimental film',\n",
              "       'Exploitation', 'Expressionism', 'Extreme Sports', 'Fairy tale',\n",
              "       'Family & Personal Relationships', 'Family Drama', 'Family Film',\n",
              "       'Family-Oriented Adventure', 'Fan film', 'Fantasy',\n",
              "       'Fantasy Adventure', 'Fantasy Comedy', 'Fantasy Drama',\n",
              "       'Feature film', 'Female buddy film', 'Feminist Film',\n",
              "       'Fictional film', 'Filipino', 'Filipino Movies', 'Film',\n",
              "       'Film & Television History', 'Film adaptation', 'Film noir',\n",
              "       'Film à clef', 'Film-Opera', 'Filmed Play', 'Finance & Investing',\n",
              "       'Foreign legion', 'Future noir', 'Gangster Film', 'Gay',\n",
              "       'Gay Interest', 'Gay Themed', 'Gay pornography', 'Gender Issues',\n",
              "       'Giallo', 'Glamorized Spy Film', 'Goat gland', 'Gothic Film',\n",
              "       'Graphic & Applied Arts', 'Gross out', 'Gross-out film',\n",
              "       'Gulf War', 'Hagiography', 'Hardcore pornography',\n",
              "       'Haunted House Film', 'Health & Fitness',\n",
              "       'Heaven-Can-Wait Fantasies', 'Heavenly Comedy', 'Heist',\n",
              "       'Hip hop movies', 'Historical Documentaries', 'Historical Epic',\n",
              "       'Historical drama', 'Historical fiction', 'History',\n",
              "       'Holiday Film', 'Homoeroticism', 'Horror', 'Horror Comedy',\n",
              "       'Horse racing', 'Humour', 'Hybrid Western',\n",
              "       'Illnesses & Disabilities', 'Indian Western', 'Indie',\n",
              "       'Inspirational Drama', 'Instrumental Music',\n",
              "       'Interpersonal Relationships', 'Inventions & Innovations',\n",
              "       'Japanese Movies', 'Journalism', 'Jukebox musical', 'Jungle Film',\n",
              "       'Juvenile Delinquency Film', 'Kafkaesque', 'Kitchen sink realism',\n",
              "       'LGBT', 'Language & Literature', 'Latino', 'Law & Crime',\n",
              "       'Legal drama', 'Libraries and librarians', 'Linguistics',\n",
              "       'Live action', 'Malayalam Cinema', 'Marriage Drama',\n",
              "       'Martial Arts Film', 'Master Criminal Films', 'Media Satire',\n",
              "       'Media Studies', 'Medical fiction', 'Melodrama', 'Mockumentary',\n",
              "       'Mondo film', 'Monster', 'Monster movie', 'Movie serial',\n",
              "       'Movies About Gladiators', 'Mumblecore', 'Music', 'Musical',\n",
              "       'Musical Drama', 'Musical comedy', 'Mystery',\n",
              "       'Mythological Fantasy', 'Natural disaster', 'Natural horror films',\n",
              "       'Nature', 'Neo-noir', 'Neorealism', 'New Hollywood',\n",
              "       'New Queer Cinema', 'News', 'Ninja movie', 'Northern',\n",
              "       'Nuclear warfare', 'Operetta', 'Outlaw', 'Outlaw biker film',\n",
              "       'Parkour in popular culture', 'Parody', 'Patriotic film',\n",
              "       'Period Horror', 'Period piece', 'Pinku eiga', 'Plague',\n",
              "       'Point of view shot', 'Political Documetary', 'Political cinema',\n",
              "       'Political drama', 'Political satire', 'Political thriller',\n",
              "       'Pornographic movie', 'Pornography', 'Pre-Code', 'Prison',\n",
              "       'Prison escape', 'Prison film', 'Private military company',\n",
              "       'Propaganda film', 'Psycho-biddy', 'Psychological horror',\n",
              "       'Psychological thriller', 'Punk rock', 'Race movie', 'Reboot',\n",
              "       'Religious Film', 'Remake', 'Revenge', 'Revisionist Fairy Tale',\n",
              "       'Revisionist Western', 'Road movie', 'Road-Horror',\n",
              "       'Roadshow theatrical release', 'Roadshow/Carny', 'Rockumentary',\n",
              "       'Romance Film', 'Romantic comedy', 'Romantic drama',\n",
              "       'Romantic fantasy', 'Romantic thriller', 'Samurai cinema',\n",
              "       'Satire', 'School story', 'Sci Fi Pictures original films',\n",
              "       'Sci-Fi Adventure', 'Sci-Fi Horror', 'Sci-Fi Thriller',\n",
              "       'Science Fiction', 'Science fiction Western', 'Screwball comedy',\n",
              "       'Sex comedy', 'Sexploitation', 'Short Film', 'Silent film',\n",
              "       'Silhouette animation', 'Singing cowboy', 'Slapstick', 'Slasher',\n",
              "       'Slice of life story', 'Social issues', 'Social problem film',\n",
              "       'Softcore Porn', 'Space opera', 'Space western',\n",
              "       'Spaghetti Western', 'Splatter film', 'Sponsored film', 'Sports',\n",
              "       'Spy', 'Stand-up comedy', 'Star vehicle', 'Statutory rape',\n",
              "       'Steampunk', 'Stoner film', 'Stop motion', 'Superhero',\n",
              "       'Superhero movie', 'Supermarionation', 'Supernatural',\n",
              "       'Surrealism', 'Suspense', 'Swashbuckler films', 'Sword and Sandal',\n",
              "       'Sword and sorcery', 'Sword and sorcery films', 'Tamil cinema',\n",
              "       'Teen', 'Television movie', 'The Netherlands in World War II',\n",
              "       'Therimin music', 'Thriller', 'Time travel', 'Tokusatsu',\n",
              "       'Tollywood', 'Tragedy', 'Tragicomedy', 'Travel', 'Vampire movies',\n",
              "       'War effort', 'War film', 'Werewolf fiction', 'Western',\n",
              "       'Whodunit', 'Women in prison films', 'Workplace Comedy',\n",
              "       'World History', 'World cinema', 'Wuxia', 'Z movie', 'Zombie Film'],\n",
              "      dtype=object)"
            ]
          },
          "metadata": {
            "tags": []
          },
          "execution_count": 31
        }
      ]
    },
    {
      "cell_type": "code",
      "metadata": {
        "id": "yxE69-MxmXgV",
        "colab_type": "code",
        "colab": {}
      },
      "source": [
        "# genre_weights['Absurdism']"
      ],
      "execution_count": 32,
      "outputs": []
    },
    {
      "cell_type": "code",
      "metadata": {
        "id": "pV_E2Tp6mbNs",
        "colab_type": "code",
        "colab": {}
      },
      "source": [
        "# class_weights={}\n",
        "\n",
        "# for i,gen in enumerate(multilabel_binarizer.classes_):\n",
        "#   class_weights[i] = genre_weights[gen]\n",
        "\n",
        "# class_weights"
      ],
      "execution_count": 33,
      "outputs": []
    },
    {
      "cell_type": "code",
      "metadata": {
        "id": "CUdxX9-wmf4M",
        "colab_type": "code",
        "colab": {}
      },
      "source": [
        "y = multilabel_binarizer.transform(movies['genre_new'])"
      ],
      "execution_count": 34,
      "outputs": []
    },
    {
      "cell_type": "code",
      "metadata": {
        "id": "dQ-afIj9mqlP",
        "colab_type": "code",
        "colab": {}
      },
      "source": [
        "# # length of maximum document will be needed to create word embeddings \n",
        "# maxlen = -1\n",
        "# for doc in movies['plot']:\n",
        "#     tokens = nltk.word_tokenize(doc)\n",
        "#     if(maxlen<len(tokens)):\n",
        "#         maxlen = len(tokens)\n",
        "# print(\"The maximum number of words in any document is =\", maxlen)"
      ],
      "execution_count": 35,
      "outputs": []
    },
    {
      "cell_type": "code",
      "metadata": {
        "id": "wIfRlQ9CmtA5",
        "colab_type": "code",
        "colab": {}
      },
      "source": [
        "# split data into test and train \n",
        "from sklearn.model_selection import train_test_split\n",
        "x_train, x_test, y_train, y_test = train_test_split(movies['plot'].values, y, test_size = 0.1)"
      ],
      "execution_count": 36,
      "outputs": []
    },
    {
      "cell_type": "code",
      "metadata": {
        "id": "rFGNcyKwsrHE",
        "colab_type": "code",
        "colab": {}
      },
      "source": [
        "def compute_class_freqs(labels):\n",
        "    \"\"\"\n",
        "    Compute positive and negative frequences for each class.\n",
        "\n",
        "    Args:\n",
        "        labels (np.array): matrix of labels, size (num_examples, num_classes)\n",
        "    Returns:\n",
        "        positive_frequencies (np.array): array of positive frequences for each\n",
        "                                         class, size (num_classes)\n",
        "        negative_frequencies (np.array): array of negative frequences for each\n",
        "                                         class, size (num_classes)\n",
        "    \"\"\"\n",
        "    ### START CODE HERE (REPLACE INSTANCES OF 'None' with your code) ###\n",
        "    \n",
        "    # total number of patients (rows)\n",
        "    N = labels.shape[0]\n",
        "    \n",
        "    positive_frequencies = np.mean(labels, axis=0)\n",
        "    negative_frequencies = 1 - positive_frequencies\n",
        "\n",
        "    ### END CODE HERE ###\n",
        "    return positive_frequencies, negative_frequencies"
      ],
      "execution_count": 37,
      "outputs": []
    },
    {
      "cell_type": "code",
      "metadata": {
        "id": "NXRt2azLsrZz",
        "colab_type": "code",
        "colab": {
          "base_uri": "https://localhost:8080/",
          "height": 1000
        },
        "outputId": "eebfff82-5390-4b8a-f9bb-ac8947b21df6"
      },
      "source": [
        "freq_pos, freq_neg = compute_class_freqs(y_train)\n",
        "freq_pos"
      ],
      "execution_count": 38,
      "outputs": [
        {
          "output_type": "execute_result",
          "data": {
            "text/plain": [
              "array([1.81660216e-03, 1.84292973e-04, 1.39035884e-01, 3.29094595e-03,\n",
              "       9.60956217e-03, 8.41429060e-02, 1.00044757e-03, 2.68541189e-03,\n",
              "       7.63762736e-02, 2.89603244e-03, 1.31637838e-03, 2.89603244e-04,\n",
              "       2.39580865e-03, 7.89827028e-05, 2.26417081e-03, 3.26461838e-03,\n",
              "       3.42258379e-04, 1.07943027e-03, 2.18518811e-03, 5.81575968e-02,\n",
              "       7.29273622e-03, 1.84292973e-04, 5.26551352e-05, 8.16154595e-04,\n",
              "       7.89827028e-04, 7.10844325e-04, 2.36948108e-04, 1.31637838e-04,\n",
              "       8.55645947e-03, 1.21106811e-03, 2.07987784e-03, 4.73896217e-04,\n",
              "       9.03035569e-03, 4.21241082e-04, 2.10620541e-04, 5.00223784e-04,\n",
              "       2.63275676e-05, 2.63275676e-04, 4.73896217e-04, 1.46381276e-02,\n",
              "       1.37166627e-02, 8.42482163e-03, 1.93770898e-02, 8.82236790e-02,\n",
              "       1.97456757e-03, 7.89827028e-05, 2.53007925e-02, 1.23739568e-03,\n",
              "       2.63275676e-05, 5.00223784e-04, 3.42258379e-04, 7.89827028e-05,\n",
              "       0.00000000e+00, 2.36948108e-04, 7.66132217e-03, 7.89827028e-05,\n",
              "       2.63275676e-05, 7.89827028e-05, 1.86925730e-03, 3.15930811e-04,\n",
              "       2.29049838e-03, 2.63275676e-05, 2.71173946e-03, 9.76752758e-03,\n",
              "       1.84292973e-04, 5.89737514e-03, 2.63275676e-05, 1.80080562e-02,\n",
              "       2.37474660e-02, 2.79072217e-03, 1.86925730e-03, 1.05310270e-04,\n",
              "       2.36948108e-04, 2.00089514e-03, 2.63275676e-05, 2.47926704e-01,\n",
              "       1.84292973e-03, 1.23739568e-03, 4.21767633e-02, 4.47568649e-04,\n",
              "       3.81749730e-03, 5.08122055e-03, 3.01450649e-02, 1.76131427e-02,\n",
              "       1.05310270e-04, 4.68630703e-03, 1.05310270e-04, 2.10620541e-04,\n",
              "       5.26551352e-05, 1.60598162e-03, 1.36903351e-03, 8.60911460e-03,\n",
              "       1.57965406e-04, 4.55466919e-03, 8.16154595e-03, 6.05534055e-04,\n",
              "       5.42347892e-03, 9.31995893e-03, 1.01071532e-01, 3.95703341e-02,\n",
              "       1.59808335e-02, 4.55466919e-03, 1.31637838e-04, 1.57965406e-04,\n",
              "       1.73761946e-03, 1.57965406e-04, 6.52923676e-03, 5.23918595e-03,\n",
              "       5.55511676e-03, 6.02901298e-03, 2.83284627e-02, 3.94913514e-04,\n",
              "       4.21241082e-03, 2.47479135e-03, 4.52623542e-01, 1.81660216e-03,\n",
              "       2.36948108e-04, 1.57965406e-04, 7.89827028e-05, 3.15930811e-04,\n",
              "       8.55645947e-03, 1.31637838e-04, 4.55466919e-03, 4.47568649e-04,\n",
              "       2.60642919e-03, 4.02811784e-03, 5.52878920e-03, 1.10575784e-03,\n",
              "       2.10620541e-04, 8.16154595e-04, 2.68541189e-03, 2.89603244e-04,\n",
              "       5.26551352e-05, 2.63275676e-04, 1.21106811e-03, 2.63275676e-04,\n",
              "       1.82713319e-02, 7.61919806e-02, 5.08122055e-03, 4.47568649e-04,\n",
              "       4.82057763e-02, 4.42303136e-03, 4.73896217e-03, 3.68585946e-04,\n",
              "       1.57965406e-04, 1.05310270e-04, 1.79027460e-03, 1.57965406e-04,\n",
              "       2.36948108e-04, 5.10754811e-03, 4.21241082e-04, 2.63275676e-04,\n",
              "       2.92762552e-02, 1.23739568e-02, 7.10844325e-04, 7.89827028e-05,\n",
              "       7.89827028e-05, 1.05310270e-04, 1.84292973e-04, 6.31861622e-04,\n",
              "       8.02990812e-03, 4.92325514e-03, 4.87060001e-03, 6.00268541e-03,\n",
              "       4.47568649e-04, 4.47568649e-04, 5.79206487e-04, 1.10575784e-03,\n",
              "       1.05310270e-04, 1.47434379e-03, 1.05310270e-04, 1.26372324e-03,\n",
              "       1.26372324e-03, 1.05310270e-04, 4.73896217e-04, 1.57965406e-04,\n",
              "       1.55332649e-03, 7.89827028e-05, 5.52878920e-04, 6.05534055e-04,\n",
              "       3.39625622e-03, 7.10844325e-04, 5.26551352e-05, 1.42168865e-03,\n",
              "       2.60642919e-03, 7.13477082e-03, 8.29318379e-03, 2.13253298e-03,\n",
              "       2.63275676e-05, 9.68854488e-02, 4.92325514e-03, 1.57965406e-04,\n",
              "       1.05310270e-04, 6.84516757e-04, 3.42258379e-04, 4.47568649e-04,\n",
              "       8.66966801e-02, 5.52878920e-04, 1.05310270e-04, 4.73896217e-04,\n",
              "       1.05310270e-04, 3.05136508e-02, 5.26551352e-05, 1.84292973e-04,\n",
              "       1.47434379e-03, 9.21464866e-04, 1.31637838e-04, 3.68585946e-04,\n",
              "       1.97193481e-02, 1.84292973e-04, 7.89827028e-05, 3.94913514e-04,\n",
              "       2.10620541e-04, 1.31637838e-04, 2.63275676e-05, 5.26551352e-05,\n",
              "       2.89603244e-04, 3.21196325e-03, 1.67706606e-02, 5.79206487e-04,\n",
              "       1.68496433e-03, 1.57965406e-04, 1.31637838e-03, 1.22423189e-02,\n",
              "       2.29049838e-03, 1.31637838e-04, 2.65908433e-03, 4.00179027e-03,\n",
              "       2.63275676e-04, 1.31637838e-04, 1.57965406e-04, 8.60911460e-03,\n",
              "       5.71571493e-02, 3.23829081e-03, 3.92280757e-03, 5.07068952e-02,\n",
              "       6.05534055e-04, 3.68585946e-04, 3.73851460e-03, 3.68585946e-04,\n",
              "       1.36903351e-03, 2.63275676e-05, 2.02722270e-03, 2.63275676e-05,\n",
              "       1.57965406e-04, 2.63275676e-05, 1.57965406e-04, 7.89827028e-05,\n",
              "       1.05310270e-04, 1.31637838e-04, 2.89603244e-04, 1.57965406e-04,\n",
              "       1.84819525e-02, 2.63275676e-05, 5.26551352e-05, 3.11191849e-02,\n",
              "       5.52878920e-04, 7.89827028e-05, 7.89827028e-05, 2.63275676e-05,\n",
              "       4.02811784e-03, 1.23213016e-02, 1.81660216e-03, 4.60732433e-03,\n",
              "       3.47523892e-03, 1.31637838e-04, 3.10665298e-03, 2.10620541e-03,\n",
              "       5.26551352e-05, 2.63275676e-04, 5.26551352e-05, 1.79027460e-03,\n",
              "       2.63275676e-04, 7.89827028e-05, 2.72753600e-02, 5.79206487e-04,\n",
              "       7.89827028e-05, 1.57965406e-04, 1.42168865e-03, 1.92191243e-03,\n",
              "       5.26551352e-05, 2.63275676e-05, 1.39536108e-03, 6.39759893e-03,\n",
              "       4.21241082e-04, 7.63499460e-04, 1.05310270e-04, 9.47792433e-04,\n",
              "       1.58333992e-01, 4.88902930e-02, 6.09483190e-02, 1.47434379e-03,\n",
              "       2.63275676e-05, 6.05534055e-04, 1.26109049e-02, 1.05310270e-04,\n",
              "       7.89827028e-05, 8.16154595e-04, 3.05399784e-03, 1.31637838e-04,\n",
              "       5.55774952e-02, 1.31637838e-04, 5.76573730e-03, 5.81839244e-03,\n",
              "       1.89558487e-03, 7.60603428e-02, 2.83284627e-02, 2.63275676e-05,\n",
              "       7.89827028e-05, 1.22159914e-02, 1.52699892e-02, 2.31682595e-03,\n",
              "       2.31682595e-03, 2.23784325e-03, 9.74120001e-04, 1.05310270e-04,\n",
              "       2.89603244e-04, 1.36903351e-03, 6.58189190e-04, 7.89827028e-05,\n",
              "       1.63230919e-02, 8.05623568e-03, 2.89603244e-04, 5.26551352e-05,\n",
              "       0.00000000e+00, 7.63499460e-04, 1.10575784e-03, 3.18563568e-03,\n",
              "       2.68541189e-03, 6.29228866e-03, 7.89827028e-05, 1.35586973e-02,\n",
              "       2.36948108e-03, 1.55859200e-02, 2.44846379e-03, 3.68585946e-04,\n",
              "       1.00044757e-03, 9.47792433e-04, 1.47434379e-03, 1.95350552e-02,\n",
              "       1.58755233e-02, 5.26551352e-05, 1.05310270e-04, 1.54621804e-01,\n",
              "       1.79027460e-03, 5.26551352e-05, 8.42482163e-04, 1.81660216e-03,\n",
              "       1.18474054e-03, 3.68585946e-04, 5.26551352e-05, 0.00000000e+00,\n",
              "       3.68849222e-02, 1.05310270e-04, 2.43793276e-02, 9.47792433e-04,\n",
              "       2.89603244e-04, 2.00089514e-03, 2.36948108e-04, 1.22528500e-01,\n",
              "       1.79027460e-03, 5.26551352e-05, 5.39715136e-03])"
            ]
          },
          "metadata": {
            "tags": []
          },
          "execution_count": 38
        }
      ]
    },
    {
      "cell_type": "code",
      "metadata": {
        "id": "fksulrQosrxu",
        "colab_type": "code",
        "colab": {
          "base_uri": "https://localhost:8080/",
          "height": 365
        },
        "outputId": "b5374760-d75f-42be-d52d-9dec7cb190dc"
      },
      "source": [
        "data = pd.DataFrame({\"Class\": labels[:10], \"Label\": \"Positive\", \"Value\": freq_pos[:10]})\n",
        "data = data.append([{\"Class\": labels[l], \"Label\": \"Negative\", \"Value\": v} for l,v in enumerate(freq_neg[:10])], ignore_index=True)\n",
        "plt.xticks(rotation=90)\n",
        "f = sns.barplot(x=\"Class\", y=\"Value\", hue=\"Label\" ,data=data)"
      ],
      "execution_count": 39,
      "outputs": [
        {
          "output_type": "display_data",
          "data": {
            "image/png": "[encoded data removed]",
            "text/plain": [
              "<Figure size 432x288 with 1 Axes>"
            ]
          },
          "metadata": {
            "tags": [],
            "needs_background": "light"
          }
        }
      ]
    },
    {
      "cell_type": "code",
      "metadata": {
        "id": "cQSHl-8wsrBw",
        "colab_type": "code",
        "colab": {}
      },
      "source": [
        "pos_weights = freq_neg\n",
        "neg_weights = freq_pos\n",
        "pos_contribution = freq_pos * pos_weights \n",
        "neg_contribution = freq_neg * neg_weights"
      ],
      "execution_count": 40,
      "outputs": []
    },
    {
      "cell_type": "code",
      "metadata": {
        "id": "3uz7tLtqut1-",
        "colab_type": "code",
        "colab": {
          "base_uri": "https://localhost:8080/",
          "height": 365
        },
        "outputId": "f1723daa-724c-481e-b111-01eed687e65f"
      },
      "source": [
        "data = pd.DataFrame({\"Class\": labels[:10], \"Label\": \"Positive\", \"Value\": pos_contribution[:10]})\n",
        "data = data.append([{\"Class\": labels[l], \"Label\": \"Negative\", \"Value\": v} \n",
        "                        for l,v in enumerate(neg_contribution[:10])], ignore_index=True)\n",
        "plt.xticks(rotation=90)\n",
        "sns.barplot(x=\"Class\", y=\"Value\", hue=\"Label\" ,data=data);"
      ],
      "execution_count": 41,
      "outputs": [
        {
          "output_type": "display_data",
          "data": {
            "image/png": "[encoded data removed]",
            "text/plain": [
              "<Figure size 432x288 with 1 Axes>"
            ]
          },
          "metadata": {
            "tags": [],
            "needs_background": "light"
          }
        }
      ]
    },
    {
      "cell_type": "code",
      "metadata": {
        "id": "GPpEJjdHutw0",
        "colab_type": "code",
        "colab": {}
      },
      "source": [
        "\n",
        "def get_weighted_loss(pos_weights, neg_weights, epsilon=1e-7):\n",
        "    \"\"\"\n",
        "    Return weighted loss function given negative weights and positive weights.\n",
        "\n",
        "    Args:\n",
        "      pos_weights (np.array): array of positive weights for each class, size (num_classes)\n",
        "      neg_weights (np.array): array of negative weights for each class, size (num_classes)\n",
        "    \n",
        "    Returns:\n",
        "      weighted_loss (function): weighted loss function\n",
        "    \"\"\"\n",
        "    def weighted_loss(y_true, y_pred):\n",
        "        \"\"\"\n",
        "        Return weighted loss value. \n",
        "\n",
        "        Args:\n",
        "            y_true (Tensor): Tensor of true labels, size is (num_examples, num_classes)\n",
        "            y_pred (Tensor): Tensor of predicted labels, size is (num_examples, num_classes)\n",
        "        Returns:\n",
        "            loss (Tensor): overall scalar loss summed across all classes\n",
        "        \"\"\"\n",
        "        # initialize loss to zero\n",
        "        loss = 0.0\n",
        "        \n",
        "        ### START CODE HERE (REPLACE INSTANCES OF 'None' with your code) ###\n",
        "\n",
        "        loss_pos = -1. * tf.reduce_sum(K.mean(pos_weights * y_true * tf.math.log(y_pred+epsilon), axis=0))\n",
        "        loss_neg = -1. * tf.reduce_sum(K.mean(neg_weights * (1 - y_true) * tf.math.log(1-y_pred+epsilon), axis=0))\n",
        "        return loss_pos+loss_neg\n",
        "    \n",
        "        ### END CODE HERE ###\n",
        "    return weighted_loss"
      ],
      "execution_count": 42,
      "outputs": []
    },
    {
      "cell_type": "code",
      "metadata": {
        "id": "gfui6VWrvH_l",
        "colab_type": "code",
        "colab": {}
      },
      "source": [
        ""
      ],
      "execution_count": 42,
      "outputs": []
    },
    {
      "cell_type": "code",
      "metadata": {
        "id": "V-mgOBUmnR5A",
        "colab_type": "code",
        "colab": {}
      },
      "source": [
        "from transformers import AutoTokenizer, TFAutoModel, TFDistilBertForSequenceClassification, DistilBertConfig"
      ],
      "execution_count": 43,
      "outputs": []
    },
    {
      "cell_type": "code",
      "metadata": {
        "id": "YioOY4Hjnjo2",
        "colab_type": "code",
        "colab": {
          "base_uri": "https://localhost:8080/",
          "height": 271,
          "referenced_widgets": [
            "d0ac74f78f5943b28f17b26a26dcabca",
            "f84ee9795976462ea5988757e3f59666",
            "9e7c0fac24524af1a8bee89e00650c01",
            "25ec4b0b07fc4b4a94a5b54d76ef8b91",
            "69dc0207f8ff41a6972269651c5e6c24",
            "d708f7fe84094ba883eeb39da7708b83",
            "edd6abe34ea94816ad302c80bb52cc83",
            "d745e664191d43cdb471cb87846db8de",
            "bb45b40c9cdd4a2fa97f0b9ff6b59c77",
            "4c98c285ce574454b5ed07d0844f8d3f",
            "596c1da23a034757a1dedc462dd74fd0",
            "9b04afd9ac7f4c73aa8669bb7576d271",
            "cf7827e98bf84971b2ecb4d6ef4061c6",
            "f359d1cb7c0943458fb092dd7b32ad88",
            "a4e0801cbdb140b78482add06ed4eaa2",
            "30b861479c1b417aa3fca8f792b8572d",
            "cdf6a2781b7945e2b3e2a4e120fc221e",
            "5543f28ae38e48daae5bf18763a01dad",
            "cace5202bb824439adaf2ee3633f29ad",
            "9a7c0110506e42399ff429a7d8eff60c",
            "706b1f376ba44d12889e63c0ffe2140b",
            "f9dcf8e799bd41838130de7a0773f28f",
            "aba8f6f43e464f8795775791d1fcf72a",
            "9142f7f9126742a898194cd5d257f4b9"
          ]
        },
        "outputId": "76ea3f75-bf62-41a8-f41c-507f6d9e17fe"
      },
      "source": [
        "distil_bert = 'distilbert-base-uncased'\n",
        "\n",
        "tokenizer = AutoTokenizer.from_pretrained(distil_bert)\n",
        "\n",
        "config = DistilBertConfig(num_labels=num_genres)\n",
        "config.output_hidden_states = False\n",
        "transformer_model = TFDistilBertForSequenceClassification.from_pretrained(distil_bert, config = config)\n",
        "\n",
        "input_ids = tf.keras.layers.Input(shape=(512,), name='input_token', dtype='int32')\n",
        "input_masks_ids = tf.keras.layers.Input(shape=(512,), name='masked_token', dtype='int32')\n",
        "x = transformer_model([input_ids,input_masks_ids])\n",
        "preds = tf.keras.layers.Activation('sigmoid')(x)\n",
        "model = tf.keras.Model(inputs=[input_ids, input_masks_ids], outputs = preds[0])"
      ],
      "execution_count": 44,
      "outputs": [
        {
          "output_type": "display_data",
          "data": {
            "application/vnd.jupyter.widget-view+json": {
              "model_id": "d0ac74f78f5943b28f17b26a26dcabca",
              "version_minor": 0,
              "version_major": 2
            },
            "text/plain": [
              "HBox(children=(FloatProgress(value=0.0, description='Downloading', max=442.0, style=ProgressStyle(description_…"
            ]
          },
          "metadata": {
            "tags": []
          }
        },
        {
          "output_type": "stream",
          "text": [
            "\n"
          ],
          "name": "stdout"
        },
        {
          "output_type": "display_data",
          "data": {
            "application/vnd.jupyter.widget-view+json": {
              "model_id": "bb45b40c9cdd4a2fa97f0b9ff6b59c77",
              "version_minor": 0,
              "version_major": 2
            },
            "text/plain": [
              "HBox(children=(FloatProgress(value=0.0, description='Downloading', max=231508.0, style=ProgressStyle(descripti…"
            ]
          },
          "metadata": {
            "tags": []
          }
        },
        {
          "output_type": "stream",
          "text": [
            "\n"
          ],
          "name": "stdout"
        },
        {
          "output_type": "display_data",
          "data": {
            "application/vnd.jupyter.widget-view+json": {
              "model_id": "cdf6a2781b7945e2b3e2a4e120fc221e",
              "version_minor": 0,
              "version_major": 2
            },
            "text/plain": [
              "HBox(children=(FloatProgress(value=0.0, description='Downloading', max=363423424.0, style=ProgressStyle(descri…"
            ]
          },
          "metadata": {
            "tags": []
          }
        },
        {
          "output_type": "stream",
          "text": [
            "\n"
          ],
          "name": "stdout"
        },
        {
          "output_type": "stream",
          "text": [
            "Some weights of the model checkpoint at distilbert-base-uncased were not used when initializing TFDistilBertForSequenceClassification: ['vocab_layer_norm', 'activation_13', 'vocab_transform', 'vocab_projector']\n",
            "- This IS expected if you are initializing TFDistilBertForSequenceClassification from the checkpoint of a model trained on another task or with another architecture (e.g. initializing a BertForSequenceClassification model from a BertForPretraining model).\n",
            "- This IS NOT expected if you are initializing TFDistilBertForSequenceClassification from the checkpoint of a model that you expect to be exactly identical (initializing a BertForSequenceClassification model from a BertForSequenceClassification model).\n",
            "Some weights of TFDistilBertForSequenceClassification were not initialized from the model checkpoint at distilbert-base-uncased and are newly initialized: ['dropout_19', 'pre_classifier', 'classifier']\n",
            "You should probably TRAIN this model on a down-stream task to be able to use it for predictions and inference.\n"
          ],
          "name": "stderr"
        }
      ]
    },
    {
      "cell_type": "code",
      "metadata": {
        "id": "feIzCR0Kn8G2",
        "colab_type": "code",
        "colab": {
          "base_uri": "https://localhost:8080/",
          "height": 345
        },
        "outputId": "8b217d56-be1a-4960-afd8-00396cc00566"
      },
      "source": [
        "model.summary()"
      ],
      "execution_count": 45,
      "outputs": [
        {
          "output_type": "stream",
          "text": [
            "Model: \"functional_1\"\n",
            "__________________________________________________________________________________________________\n",
            "Layer (type)                    Output Shape         Param #     Connected to                     \n",
            "==================================================================================================\n",
            "input_token (InputLayer)        [(None, 512)]        0                                            \n",
            "__________________________________________________________________________________________________\n",
            "masked_token (InputLayer)       [(None, 512)]        0                                            \n",
            "__________________________________________________________________________________________________\n",
            "tf_distil_bert_for_sequence_cla ((None, 363),)       67232619    input_token[0][0]                \n",
            "                                                                 masked_token[0][0]               \n",
            "__________________________________________________________________________________________________\n",
            "activation_16 (Activation)      (1, None, 363)       0           tf_distil_bert_for_sequence_class\n",
            "__________________________________________________________________________________________________\n",
            "tf_op_layer_strided_slice (Tens [(None, 363)]        0           activation_16[0][0]              \n",
            "==================================================================================================\n",
            "Total params: 67,232,619\n",
            "Trainable params: 67,232,619\n",
            "Non-trainable params: 0\n",
            "__________________________________________________________________________________________________\n"
          ],
          "name": "stdout"
        }
      ]
    },
    {
      "cell_type": "code",
      "metadata": {
        "id": "AO6KmYoaoLKw",
        "colab_type": "code",
        "colab": {
          "base_uri": "https://localhost:8080/",
          "height": 103
        },
        "outputId": "d48e43e1-86ba-473f-8637-cbe225223341"
      },
      "source": [
        "l = tokenizer(['i',\"how are you\"], padding='max_length', truncation=True, return_tensors='tf')\n",
        "l"
      ],
      "execution_count": 46,
      "outputs": [
        {
          "output_type": "execute_result",
          "data": {
            "text/plain": [
              "{'input_ids': <tf.Tensor: shape=(2, 512), dtype=int32, numpy=\n",
              "array([[ 101, 1045,  102, ...,    0,    0,    0],\n",
              "       [ 101, 2129, 2024, ...,    0,    0,    0]], dtype=int32)>, 'attention_mask': <tf.Tensor: shape=(2, 512), dtype=int32, numpy=\n",
              "array([[1, 1, 1, ..., 0, 0, 0],\n",
              "       [1, 1, 1, ..., 0, 0, 0]], dtype=int32)>}"
            ]
          },
          "metadata": {
            "tags": []
          },
          "execution_count": 46
        }
      ]
    },
    {
      "cell_type": "code",
      "metadata": {
        "id": "9vypedvsoN_t",
        "colab_type": "code",
        "colab": {
          "base_uri": "https://localhost:8080/",
          "height": 1000
        },
        "outputId": "9754947d-23f0-4bf5-bf20-ad404d801fb0"
      },
      "source": [
        "model(l)"
      ],
      "execution_count": 47,
      "outputs": [
        {
          "output_type": "execute_result",
          "data": {
            "text/plain": [
              "<tf.Tensor: shape=(2, 363), dtype=float32, numpy=\n",
              "array([[0.5132512 , 0.4958969 , 0.51810896, 0.47844616, 0.49640706,\n",
              "        0.5002241 , 0.49482307, 0.47384956, 0.50584835, 0.477289  ,\n",
              "        0.51133245, 0.4862891 , 0.5307865 , 0.49245265, 0.50400394,\n",
              "        0.4955078 , 0.5138787 , 0.500043  , 0.51679784, 0.48783466,\n",
              "        0.48468947, 0.5181163 , 0.4873605 , 0.5264151 , 0.5111033 ,\n",
              "        0.5281851 , 0.5030392 , 0.5079493 , 0.5189684 , 0.4744742 ,\n",
              "        0.49955752, 0.47641096, 0.50116056, 0.50196606, 0.5229732 ,\n",
              "        0.5357203 , 0.5081801 , 0.5020973 , 0.50992626, 0.4973143 ,\n",
              "        0.46775183, 0.5067834 , 0.50066835, 0.5109739 , 0.4872539 ,\n",
              "        0.49275652, 0.45035455, 0.52019846, 0.49609405, 0.48615617,\n",
              "        0.49473092, 0.51823586, 0.51699156, 0.48383465, 0.5106974 ,\n",
              "        0.5065393 , 0.518063  , 0.52538437, 0.493318  , 0.50652033,\n",
              "        0.48573047, 0.48480645, 0.49294397, 0.48365963, 0.49652475,\n",
              "        0.5015861 , 0.50863314, 0.5035038 , 0.49542347, 0.49816805,\n",
              "        0.46440363, 0.50794154, 0.50974506, 0.5079577 , 0.50945556,\n",
              "        0.47756985, 0.50752765, 0.5097625 , 0.47518414, 0.494372  ,\n",
              "        0.50400096, 0.5105546 , 0.49942654, 0.49309912, 0.5147714 ,\n",
              "        0.49816284, 0.52455646, 0.5105185 , 0.4936709 , 0.5159105 ,\n",
              "        0.5260003 , 0.49817398, 0.46872112, 0.5057275 , 0.4636583 ,\n",
              "        0.5075625 , 0.48515907, 0.48442236, 0.5059042 , 0.4736121 ,\n",
              "        0.5121354 , 0.48967034, 0.5174845 , 0.5131358 , 0.47472194,\n",
              "        0.48390257, 0.4903865 , 0.51326495, 0.50684416, 0.48317546,\n",
              "        0.48790413, 0.49664629, 0.46856654, 0.49926823, 0.5130617 ,\n",
              "        0.51224416, 0.5109075 , 0.4941158 , 0.5056801 , 0.51427823,\n",
              "        0.48570573, 0.48461774, 0.47229323, 0.48433778, 0.48387924,\n",
              "        0.49149588, 0.5210623 , 0.5105931 , 0.49022818, 0.48492798,\n",
              "        0.50612676, 0.52342016, 0.50592804, 0.50978553, 0.5059241 ,\n",
              "        0.51747435, 0.4938712 , 0.4865957 , 0.52294844, 0.50345623,\n",
              "        0.5134399 , 0.4914058 , 0.4955113 , 0.5048121 , 0.5177038 ,\n",
              "        0.49787876, 0.51184994, 0.5057661 , 0.49204814, 0.48489457,\n",
              "        0.496019  , 0.5042885 , 0.50829697, 0.5149491 , 0.52257955,\n",
              "        0.5226264 , 0.5135456 , 0.5054721 , 0.5003728 , 0.50201046,\n",
              "        0.49813113, 0.4994646 , 0.5121609 , 0.47458497, 0.5136319 ,\n",
              "        0.48770857, 0.49705556, 0.51381326, 0.48812866, 0.5151897 ,\n",
              "        0.49236074, 0.5178535 , 0.46419504, 0.5023046 , 0.50434685,\n",
              "        0.51306146, 0.50450677, 0.5196779 , 0.50722754, 0.5167066 ,\n",
              "        0.48206148, 0.49277514, 0.5121296 , 0.49653175, 0.47515786,\n",
              "        0.49795598, 0.47163874, 0.4812991 , 0.48716578, 0.51170325,\n",
              "        0.53854007, 0.49882072, 0.51992697, 0.4973951 , 0.49616992,\n",
              "        0.5241822 , 0.5159306 , 0.5129451 , 0.48247313, 0.5150821 ,\n",
              "        0.4729903 , 0.5098251 , 0.5053191 , 0.5314501 , 0.48650628,\n",
              "        0.5144052 , 0.4929627 , 0.50431097, 0.49144256, 0.4786352 ,\n",
              "        0.49383318, 0.5175838 , 0.49271575, 0.5105507 , 0.49359444,\n",
              "        0.5189891 , 0.49981964, 0.5123579 , 0.50467867, 0.4849532 ,\n",
              "        0.5185726 , 0.4950293 , 0.48816636, 0.52754027, 0.4949759 ,\n",
              "        0.49593914, 0.533741  , 0.48655492, 0.53073376, 0.4943722 ,\n",
              "        0.47482318, 0.49820864, 0.50058466, 0.5098827 , 0.51008207,\n",
              "        0.48547277, 0.47727782, 0.5037313 , 0.49169362, 0.49195147,\n",
              "        0.49140662, 0.5129088 , 0.5148791 , 0.5000318 , 0.51199657,\n",
              "        0.5072082 , 0.47765014, 0.51399666, 0.49970895, 0.51276547,\n",
              "        0.5158005 , 0.50562835, 0.5021975 , 0.5138462 , 0.4953823 ,\n",
              "        0.5064834 , 0.49484906, 0.47813255, 0.49874496, 0.5204288 ,\n",
              "        0.47511506, 0.47033927, 0.5152399 , 0.51463723, 0.5179228 ,\n",
              "        0.5132813 , 0.5067713 , 0.49513483, 0.5118677 , 0.5115627 ,\n",
              "        0.49426207, 0.48830175, 0.52048844, 0.51967293, 0.50692165,\n",
              "        0.5114787 , 0.49591205, 0.51618224, 0.5004751 , 0.49225056,\n",
              "        0.46964273, 0.5015989 , 0.50045294, 0.5261209 , 0.49798122,\n",
              "        0.4794972 , 0.5460381 , 0.5109493 , 0.49929136, 0.49102798,\n",
              "        0.5177203 , 0.48945826, 0.5296998 , 0.51473194, 0.49249792,\n",
              "        0.5298342 , 0.468435  , 0.50189656, 0.5006491 , 0.5036306 ,\n",
              "        0.4865991 , 0.49626327, 0.4888963 , 0.51196724, 0.48121196,\n",
              "        0.51017165, 0.49419686, 0.47263497, 0.5080815 , 0.50755453,\n",
              "        0.48967886, 0.5064357 , 0.49431205, 0.50104237, 0.51491565,\n",
              "        0.5091947 , 0.5285089 , 0.48337993, 0.5013325 , 0.49393758,\n",
              "        0.48721814, 0.52398115, 0.47158402, 0.4977841 , 0.49960494,\n",
              "        0.5195274 , 0.49478623, 0.4780984 , 0.4748778 , 0.5000349 ,\n",
              "        0.50471544, 0.5318711 , 0.4917323 , 0.5064038 , 0.50573593,\n",
              "        0.46498796, 0.51799107, 0.50011104, 0.49834704, 0.50850767,\n",
              "        0.5069166 , 0.48475087, 0.49805188, 0.48469833, 0.5022471 ,\n",
              "        0.5166363 , 0.51203036, 0.49593937, 0.5095851 , 0.5048787 ,\n",
              "        0.50325483, 0.49844134, 0.49816817, 0.5060514 , 0.49821645,\n",
              "        0.50813305, 0.49136367, 0.49606317, 0.4973013 , 0.5230125 ,\n",
              "        0.5140001 , 0.48135698, 0.47859368],\n",
              "       [0.5132512 , 0.4958969 , 0.51810896, 0.47844616, 0.49640706,\n",
              "        0.5002241 , 0.49482307, 0.47384956, 0.50584835, 0.477289  ,\n",
              "        0.51133245, 0.4862891 , 0.5307865 , 0.49245265, 0.50400394,\n",
              "        0.4955078 , 0.5138787 , 0.500043  , 0.51679784, 0.48783466,\n",
              "        0.48468947, 0.5181163 , 0.4873605 , 0.5264151 , 0.5111033 ,\n",
              "        0.5281851 , 0.5030392 , 0.5079493 , 0.5189684 , 0.4744742 ,\n",
              "        0.49955752, 0.47641096, 0.50116056, 0.50196606, 0.5229732 ,\n",
              "        0.5357203 , 0.5081801 , 0.5020973 , 0.50992626, 0.4973143 ,\n",
              "        0.46775183, 0.5067834 , 0.50066835, 0.5109739 , 0.4872539 ,\n",
              "        0.49275652, 0.45035455, 0.52019846, 0.49609405, 0.48615617,\n",
              "        0.49473092, 0.51823586, 0.51699156, 0.48383465, 0.5106974 ,\n",
              "        0.5065393 , 0.518063  , 0.52538437, 0.493318  , 0.50652033,\n",
              "        0.48573047, 0.48480645, 0.49294397, 0.48365963, 0.49652475,\n",
              "        0.5015861 , 0.50863314, 0.5035038 , 0.49542347, 0.49816805,\n",
              "        0.46440363, 0.50794154, 0.50974506, 0.5079577 , 0.50945556,\n",
              "        0.47756985, 0.50752765, 0.5097625 , 0.47518414, 0.494372  ,\n",
              "        0.50400096, 0.5105546 , 0.49942654, 0.49309912, 0.5147714 ,\n",
              "        0.49816284, 0.52455646, 0.5105185 , 0.4936709 , 0.5159105 ,\n",
              "        0.5260003 , 0.49817398, 0.46872112, 0.5057275 , 0.4636583 ,\n",
              "        0.5075625 , 0.48515907, 0.48442236, 0.5059042 , 0.4736121 ,\n",
              "        0.5121354 , 0.48967034, 0.5174845 , 0.5131358 , 0.47472194,\n",
              "        0.48390257, 0.4903865 , 0.51326495, 0.50684416, 0.48317546,\n",
              "        0.48790413, 0.49664629, 0.46856654, 0.49926823, 0.5130617 ,\n",
              "        0.51224416, 0.5109075 , 0.4941158 , 0.5056801 , 0.51427823,\n",
              "        0.48570573, 0.48461774, 0.47229323, 0.48433778, 0.48387924,\n",
              "        0.49149588, 0.5210623 , 0.5105931 , 0.49022818, 0.48492798,\n",
              "        0.50612676, 0.52342016, 0.50592804, 0.50978553, 0.5059241 ,\n",
              "        0.51747435, 0.4938712 , 0.4865957 , 0.52294844, 0.50345623,\n",
              "        0.5134399 , 0.4914058 , 0.4955113 , 0.5048121 , 0.5177038 ,\n",
              "        0.49787876, 0.51184994, 0.5057661 , 0.49204814, 0.48489457,\n",
              "        0.496019  , 0.5042885 , 0.50829697, 0.5149491 , 0.52257955,\n",
              "        0.5226264 , 0.5135456 , 0.5054721 , 0.5003728 , 0.50201046,\n",
              "        0.49813113, 0.4994646 , 0.5121609 , 0.47458497, 0.5136319 ,\n",
              "        0.48770857, 0.49705556, 0.51381326, 0.48812866, 0.5151897 ,\n",
              "        0.49236074, 0.5178535 , 0.46419504, 0.5023046 , 0.50434685,\n",
              "        0.51306146, 0.50450677, 0.5196779 , 0.50722754, 0.5167066 ,\n",
              "        0.48206148, 0.49277514, 0.5121296 , 0.49653175, 0.47515786,\n",
              "        0.49795598, 0.47163874, 0.4812991 , 0.48716578, 0.51170325,\n",
              "        0.53854007, 0.49882072, 0.51992697, 0.4973951 , 0.49616992,\n",
              "        0.5241822 , 0.5159306 , 0.5129451 , 0.48247313, 0.5150821 ,\n",
              "        0.4729903 , 0.5098251 , 0.5053191 , 0.5314501 , 0.48650628,\n",
              "        0.5144052 , 0.4929627 , 0.50431097, 0.49144256, 0.4786352 ,\n",
              "        0.49383318, 0.5175838 , 0.49271575, 0.5105507 , 0.49359444,\n",
              "        0.5189891 , 0.49981964, 0.5123579 , 0.50467867, 0.4849532 ,\n",
              "        0.5185726 , 0.4950293 , 0.48816636, 0.52754027, 0.4949759 ,\n",
              "        0.49593914, 0.533741  , 0.48655492, 0.53073376, 0.4943722 ,\n",
              "        0.47482318, 0.49820864, 0.50058466, 0.5098827 , 0.51008207,\n",
              "        0.48547277, 0.47727782, 0.5037313 , 0.49169362, 0.49195147,\n",
              "        0.49140662, 0.5129088 , 0.5148791 , 0.5000318 , 0.51199657,\n",
              "        0.5072082 , 0.47765014, 0.51399666, 0.49970895, 0.51276547,\n",
              "        0.5158005 , 0.50562835, 0.5021975 , 0.5138462 , 0.4953823 ,\n",
              "        0.5064834 , 0.49484906, 0.47813255, 0.49874496, 0.5204288 ,\n",
              "        0.47511506, 0.47033927, 0.5152399 , 0.51463723, 0.5179228 ,\n",
              "        0.5132813 , 0.5067713 , 0.49513483, 0.5118677 , 0.5115627 ,\n",
              "        0.49426207, 0.48830175, 0.52048844, 0.51967293, 0.50692165,\n",
              "        0.5114787 , 0.49591205, 0.51618224, 0.5004751 , 0.49225056,\n",
              "        0.46964273, 0.5015989 , 0.50045294, 0.5261209 , 0.49798122,\n",
              "        0.4794972 , 0.5460381 , 0.5109493 , 0.49929136, 0.49102798,\n",
              "        0.5177203 , 0.48945826, 0.5296998 , 0.51473194, 0.49249792,\n",
              "        0.5298342 , 0.468435  , 0.50189656, 0.5006491 , 0.5036306 ,\n",
              "        0.4865991 , 0.49626327, 0.4888963 , 0.51196724, 0.48121196,\n",
              "        0.51017165, 0.49419686, 0.47263497, 0.5080815 , 0.50755453,\n",
              "        0.48967886, 0.5064357 , 0.49431205, 0.50104237, 0.51491565,\n",
              "        0.5091947 , 0.5285089 , 0.48337993, 0.5013325 , 0.49393758,\n",
              "        0.48721814, 0.52398115, 0.47158402, 0.4977841 , 0.49960494,\n",
              "        0.5195274 , 0.49478623, 0.4780984 , 0.4748778 , 0.5000349 ,\n",
              "        0.50471544, 0.5318711 , 0.4917323 , 0.5064038 , 0.50573593,\n",
              "        0.46498796, 0.51799107, 0.50011104, 0.49834704, 0.50850767,\n",
              "        0.5069166 , 0.48475087, 0.49805188, 0.48469833, 0.5022471 ,\n",
              "        0.5166363 , 0.51203036, 0.49593937, 0.5095851 , 0.5048787 ,\n",
              "        0.50325483, 0.49844134, 0.49816817, 0.5060514 , 0.49821645,\n",
              "        0.50813305, 0.49136367, 0.49606317, 0.4973013 , 0.5230125 ,\n",
              "        0.5140001 , 0.48135698, 0.47859368]], dtype=float32)>"
            ]
          },
          "metadata": {
            "tags": []
          },
          "execution_count": 47
        }
      ]
    },
    {
      "cell_type": "code",
      "metadata": {
        "id": "uWQzS0OxzWdI",
        "colab_type": "code",
        "colab": {}
      },
      "source": [
        "# class_weights"
      ],
      "execution_count": 48,
      "outputs": []
    },
    {
      "cell_type": "code",
      "metadata": {
        "id": "pon9UkhPoS1g",
        "colab_type": "code",
        "colab": {}
      },
      "source": [
        "opt = tfa.optimizers.RectifiedAdam(\n",
        "    lr=5e-5,\n",
        "    total_steps=200,\n",
        "    warmup_proportion=0.4,\n",
        "    min_lr=3e-5,\n",
        ")\n",
        "\n",
        "ranger = tfa.optimizers.Lookahead(opt, sync_period=6, slow_step_size=0.5)\n",
        "\n",
        "model.compile(optimizer=ranger, loss=get_weighted_loss(pos_weights, neg_weights), metrics=['acc', tf.keras.metrics.AUC()]) "
      ],
      "execution_count": 49,
      "outputs": []
    },
    {
      "cell_type": "code",
      "metadata": {
        "id": "Cbh1egFGqSwU",
        "colab_type": "code",
        "colab": {}
      },
      "source": [
        "def encode(x):\n",
        "  x= tokenizer(x.numpy().decode('utf8'), padding='max_length', truncation=True)\n",
        "  inp = x['input_ids']\n",
        "  # token_type = x['token_type_ids']\n",
        "  att_mask = x['attention_mask']\n",
        "  return inp,att_mask\n",
        "  # return inp,token_type,att_mask"
      ],
      "execution_count": 50,
      "outputs": []
    },
    {
      "cell_type": "code",
      "metadata": {
        "id": "3nEzsqyTqaxd",
        "colab_type": "code",
        "colab": {}
      },
      "source": [
        "def tf_encode(x,y):\n",
        "   i, a = tf.py_function(func = encode, inp = [x], Tout=[tf.int32,tf.int32])\n",
        "   y = tf.cast(y, dtype='float32')\n",
        "   return {'input_token':i, 'masked_token':a},y\n",
        "\n",
        "  #  return {'input_ids':i, 'token_type_ids':t, 'attention_mask':a},y"
      ],
      "execution_count": 51,
      "outputs": []
    },
    {
      "cell_type": "code",
      "metadata": {
        "id": "ISooejd8qc9q",
        "colab_type": "code",
        "colab": {}
      },
      "source": [
        "batch_size=16\n",
        "train = tf.data.Dataset.from_tensor_slices((tf.constant(x_train), tf.constant(y_train)))\n",
        "train = train.map(tf_encode, num_parallel_calls=tf.data.experimental.AUTOTUNE)\n",
        "train = train.cache().shuffle(len(y_train))\n",
        "train = train.batch(batch_size)\n",
        "train = train.prefetch(tf.data.experimental.AUTOTUNE)"
      ],
      "execution_count": 52,
      "outputs": []
    },
    {
      "cell_type": "code",
      "metadata": {
        "id": "XFFQcho9rOGl",
        "colab_type": "code",
        "colab": {}
      },
      "source": [
        "example_input_batch, example_target_batch = next(iter(train))"
      ],
      "execution_count": 53,
      "outputs": []
    },
    {
      "cell_type": "code",
      "metadata": {
        "id": "C0Rj7n44rj7y",
        "colab_type": "code",
        "colab": {}
      },
      "source": [
        "def test(tokenizer, inputs, l, ind):\n",
        "  print('ids')\n",
        "  print(inputs['input_token'][ind])\n",
        "  print('mask')\n",
        "  print(inputs['masked_token'][ind])\n",
        "  print('words')\n",
        "  for t in inputs['input_token'][ind]:\n",
        "    if t!=0:\n",
        "      print(tokenizer.convert_ids_to_tokens([t.numpy()]))\n",
        "  print(tokenizer.convert_tokens_to_string(tokenizer.convert_ids_to_tokens(inputs['input_token'][ind].numpy())))\n",
        "  print('label')\n",
        "  print(labels[np.where(l[ind]==1)[0]])"
      ],
      "execution_count": 54,
      "outputs": []
    },
    {
      "cell_type": "code",
      "metadata": {
        "id": "C1QPQAaAr1SP",
        "colab_type": "code",
        "colab": {
          "base_uri": "https://localhost:8080/",
          "height": 1000
        },
        "outputId": "a1f395d5-ca96-48ff-d70a-9f5a65ef4b10"
      },
      "source": [
        "test(tokenizer,example_input_batch, example_target_batch,-1)"
      ],
      "execution_count": 55,
      "outputs": [
        {
          "output_type": "stream",
          "text": [
            "ids\n",
            "tf.Tensor(\n",
            "[  101  4831  6672  1998  9724  1051  8516  2455  1999  1996  8894  1998\n",
            "  2442  2954  2125  2536  4176  2164  1037  3748 10777  1998  1037 23526\n",
            "  1012   102     0     0     0     0     0     0     0     0     0     0\n",
            "     0     0     0     0     0     0     0     0     0     0     0     0\n",
            "     0     0     0     0     0     0     0     0     0     0     0     0\n",
            "     0     0     0     0     0     0     0     0     0     0     0     0\n",
            "     0     0     0     0     0     0     0     0     0     0     0     0\n",
            "     0     0     0     0     0     0     0     0     0     0     0     0\n",
            "     0     0     0     0     0     0     0     0     0     0     0     0\n",
            "     0     0     0     0     0     0     0     0     0     0     0     0\n",
            "     0     0     0     0     0     0     0     0     0     0     0     0\n",
            "     0     0     0     0     0     0     0     0     0     0     0     0\n",
            "     0     0     0     0     0     0     0     0     0     0     0     0\n",
            "     0     0     0     0     0     0     0     0     0     0     0     0\n",
            "     0     0     0     0     0     0     0     0     0     0     0     0\n",
            "     0     0     0     0     0     0     0     0     0     0     0     0\n",
            "     0     0     0     0     0     0     0     0     0     0     0     0\n",
            "     0     0     0     0     0     0     0     0     0     0     0     0\n",
            "     0     0     0     0     0     0     0     0     0     0     0     0\n",
            "     0     0     0     0     0     0     0     0     0     0     0     0\n",
            "     0     0     0     0     0     0     0     0     0     0     0     0\n",
            "     0     0     0     0     0     0     0     0     0     0     0     0\n",
            "     0     0     0     0     0     0     0     0     0     0     0     0\n",
            "     0     0     0     0     0     0     0     0     0     0     0     0\n",
            "     0     0     0     0     0     0     0     0     0     0     0     0\n",
            "     0     0     0     0     0     0     0     0     0     0     0     0\n",
            "     0     0     0     0     0     0     0     0     0     0     0     0\n",
            "     0     0     0     0     0     0     0     0     0     0     0     0\n",
            "     0     0     0     0     0     0     0     0     0     0     0     0\n",
            "     0     0     0     0     0     0     0     0     0     0     0     0\n",
            "     0     0     0     0     0     0     0     0     0     0     0     0\n",
            "     0     0     0     0     0     0     0     0     0     0     0     0\n",
            "     0     0     0     0     0     0     0     0     0     0     0     0\n",
            "     0     0     0     0     0     0     0     0     0     0     0     0\n",
            "     0     0     0     0     0     0     0     0     0     0     0     0\n",
            "     0     0     0     0     0     0     0     0     0     0     0     0\n",
            "     0     0     0     0     0     0     0     0     0     0     0     0\n",
            "     0     0     0     0     0     0     0     0     0     0     0     0\n",
            "     0     0     0     0     0     0     0     0     0     0     0     0\n",
            "     0     0     0     0     0     0     0     0     0     0     0     0\n",
            "     0     0     0     0     0     0     0     0     0     0     0     0\n",
            "     0     0     0     0     0     0     0     0     0     0     0     0\n",
            "     0     0     0     0     0     0     0     0], shape=(512,), dtype=int32)\n",
            "mask\n",
            "tf.Tensor(\n",
            "[1 1 1 1 1 1 1 1 1 1 1 1 1 1 1 1 1 1 1 1 1 1 1 1 1 1 0 0 0 0 0 0 0 0 0 0 0\n",
            " 0 0 0 0 0 0 0 0 0 0 0 0 0 0 0 0 0 0 0 0 0 0 0 0 0 0 0 0 0 0 0 0 0 0 0 0 0\n",
            " 0 0 0 0 0 0 0 0 0 0 0 0 0 0 0 0 0 0 0 0 0 0 0 0 0 0 0 0 0 0 0 0 0 0 0 0 0\n",
            " 0 0 0 0 0 0 0 0 0 0 0 0 0 0 0 0 0 0 0 0 0 0 0 0 0 0 0 0 0 0 0 0 0 0 0 0 0\n",
            " 0 0 0 0 0 0 0 0 0 0 0 0 0 0 0 0 0 0 0 0 0 0 0 0 0 0 0 0 0 0 0 0 0 0 0 0 0\n",
            " 0 0 0 0 0 0 0 0 0 0 0 0 0 0 0 0 0 0 0 0 0 0 0 0 0 0 0 0 0 0 0 0 0 0 0 0 0\n",
            " 0 0 0 0 0 0 0 0 0 0 0 0 0 0 0 0 0 0 0 0 0 0 0 0 0 0 0 0 0 0 0 0 0 0 0 0 0\n",
            " 0 0 0 0 0 0 0 0 0 0 0 0 0 0 0 0 0 0 0 0 0 0 0 0 0 0 0 0 0 0 0 0 0 0 0 0 0\n",
            " 0 0 0 0 0 0 0 0 0 0 0 0 0 0 0 0 0 0 0 0 0 0 0 0 0 0 0 0 0 0 0 0 0 0 0 0 0\n",
            " 0 0 0 0 0 0 0 0 0 0 0 0 0 0 0 0 0 0 0 0 0 0 0 0 0 0 0 0 0 0 0 0 0 0 0 0 0\n",
            " 0 0 0 0 0 0 0 0 0 0 0 0 0 0 0 0 0 0 0 0 0 0 0 0 0 0 0 0 0 0 0 0 0 0 0 0 0\n",
            " 0 0 0 0 0 0 0 0 0 0 0 0 0 0 0 0 0 0 0 0 0 0 0 0 0 0 0 0 0 0 0 0 0 0 0 0 0\n",
            " 0 0 0 0 0 0 0 0 0 0 0 0 0 0 0 0 0 0 0 0 0 0 0 0 0 0 0 0 0 0 0 0 0 0 0 0 0\n",
            " 0 0 0 0 0 0 0 0 0 0 0 0 0 0 0 0 0 0 0 0 0 0 0 0 0 0 0 0 0 0 0], shape=(512,), dtype=int32)\n",
            "words\n",
            "['[CLS]']\n",
            "['pope']\n",
            "['##ye']\n",
            "['and']\n",
            "['olive']\n",
            "['o']\n",
            "['##yl']\n",
            "['land']\n",
            "['in']\n",
            "['the']\n",
            "['jungle']\n",
            "['and']\n",
            "['must']\n",
            "['fight']\n",
            "['off']\n",
            "['various']\n",
            "['animals']\n",
            "['including']\n",
            "['a']\n",
            "['wild']\n",
            "['elephant']\n",
            "['and']\n",
            "['a']\n",
            "['gorilla']\n",
            "['.']\n",
            "['[SEP]']\n",
            "[CLS] popeye and olive oyl land in the jungle and must fight off various animals including a wild elephant and a gorilla . [SEP] [PAD] [PAD] [PAD] [PAD] [PAD] [PAD] [PAD] [PAD] [PAD] [PAD] [PAD] [PAD] [PAD] [PAD] [PAD] [PAD] [PAD] [PAD] [PAD] [PAD] [PAD] [PAD] [PAD] [PAD] [PAD] [PAD] [PAD] [PAD] [PAD] [PAD] [PAD] [PAD] [PAD] [PAD] [PAD] [PAD] [PAD] [PAD] [PAD] [PAD] [PAD] [PAD] [PAD] [PAD] [PAD] [PAD] [PAD] [PAD] [PAD] [PAD] [PAD] [PAD] [PAD] [PAD] [PAD] [PAD] [PAD] [PAD] [PAD] [PAD] [PAD] [PAD] [PAD] [PAD] [PAD] [PAD] [PAD] [PAD] [PAD] [PAD] [PAD] [PAD] [PAD] [PAD] [PAD] [PAD] [PAD] [PAD] [PAD] [PAD] [PAD] [PAD] [PAD] [PAD] [PAD] [PAD] [PAD] [PAD] [PAD] [PAD] [PAD] [PAD] [PAD] [PAD] [PAD] [PAD] [PAD] [PAD] [PAD] [PAD] [PAD] [PAD] [PAD] [PAD] [PAD] [PAD] [PAD] [PAD] [PAD] [PAD] [PAD] [PAD] [PAD] [PAD] [PAD] [PAD] [PAD] [PAD] [PAD] [PAD] [PAD] [PAD] [PAD] [PAD] [PAD] [PAD] [PAD] [PAD] [PAD] [PAD] [PAD] [PAD] [PAD] [PAD] [PAD] [PAD] [PAD] [PAD] [PAD] [PAD] [PAD] [PAD] [PAD] [PAD] [PAD] [PAD] [PAD] [PAD] [PAD] [PAD] [PAD] [PAD] [PAD] [PAD] [PAD] [PAD] [PAD] [PAD] [PAD] [PAD] [PAD] [PAD] [PAD] [PAD] [PAD] [PAD] [PAD] [PAD] [PAD] [PAD] [PAD] [PAD] [PAD] [PAD] [PAD] [PAD] [PAD] [PAD] [PAD] [PAD] [PAD] [PAD] [PAD] [PAD] [PAD] [PAD] [PAD] [PAD] [PAD] [PAD] [PAD] [PAD] [PAD] [PAD] [PAD] [PAD] [PAD] [PAD] [PAD] [PAD] [PAD] [PAD] [PAD] [PAD] [PAD] [PAD] [PAD] [PAD] [PAD] [PAD] [PAD] [PAD] [PAD] [PAD] [PAD] [PAD] [PAD] [PAD] [PAD] [PAD] [PAD] [PAD] [PAD] [PAD] [PAD] [PAD] [PAD] [PAD] [PAD] [PAD] [PAD] [PAD] [PAD] [PAD] [PAD] [PAD] [PAD] [PAD] [PAD] [PAD] [PAD] [PAD] [PAD] [PAD] [PAD] [PAD] [PAD] [PAD] [PAD] [PAD] [PAD] [PAD] [PAD] [PAD] [PAD] [PAD] [PAD] [PAD] [PAD] [PAD] [PAD] [PAD] [PAD] [PAD] [PAD] [PAD] [PAD] [PAD] [PAD] [PAD] [PAD] [PAD] [PAD] [PAD] [PAD] [PAD] [PAD] [PAD] [PAD] [PAD] [PAD] [PAD] [PAD] [PAD] [PAD] [PAD] [PAD] [PAD] [PAD] [PAD] [PAD] [PAD] [PAD] [PAD] [PAD] [PAD] [PAD] [PAD] [PAD] [PAD] [PAD] [PAD] [PAD] [PAD] [PAD] [PAD] [PAD] [PAD] [PAD] [PAD] [PAD] [PAD] [PAD] [PAD] [PAD] [PAD] [PAD] [PAD] [PAD] [PAD] [PAD] [PAD] [PAD] [PAD] [PAD] [PAD] [PAD] [PAD] [PAD] [PAD] [PAD] [PAD] [PAD] [PAD] [PAD] [PAD] [PAD] [PAD] [PAD] [PAD] [PAD] [PAD] [PAD] [PAD] [PAD] [PAD] [PAD] [PAD] [PAD] [PAD] [PAD] [PAD] [PAD] [PAD] [PAD] [PAD] [PAD] [PAD] [PAD] [PAD] [PAD] [PAD] [PAD] [PAD] [PAD] [PAD] [PAD] [PAD] [PAD] [PAD] [PAD] [PAD] [PAD] [PAD] [PAD] [PAD] [PAD] [PAD] [PAD] [PAD] [PAD] [PAD] [PAD] [PAD] [PAD] [PAD] [PAD] [PAD] [PAD] [PAD] [PAD] [PAD] [PAD] [PAD] [PAD] [PAD] [PAD] [PAD] [PAD] [PAD] [PAD] [PAD] [PAD] [PAD] [PAD] [PAD] [PAD] [PAD] [PAD] [PAD] [PAD] [PAD] [PAD] [PAD] [PAD] [PAD] [PAD] [PAD] [PAD] [PAD] [PAD] [PAD] [PAD] [PAD] [PAD] [PAD] [PAD] [PAD] [PAD] [PAD] [PAD] [PAD] [PAD] [PAD] [PAD] [PAD] [PAD] [PAD] [PAD] [PAD] [PAD] [PAD] [PAD] [PAD] [PAD] [PAD] [PAD] [PAD] [PAD] [PAD] [PAD] [PAD] [PAD] [PAD] [PAD] [PAD] [PAD] [PAD] [PAD] [PAD] [PAD] [PAD] [PAD] [PAD] [PAD] [PAD] [PAD] [PAD] [PAD] [PAD] [PAD] [PAD] [PAD] [PAD] [PAD] [PAD] [PAD] [PAD] [PAD] [PAD] [PAD] [PAD] [PAD] [PAD] [PAD] [PAD]\n",
            "label\n",
            "['Animation' 'Comedy' 'Family Film' 'Short Film']\n"
          ],
          "name": "stdout"
        }
      ]
    },
    {
      "cell_type": "code",
      "metadata": {
        "id": "22CQnjETtI4_",
        "colab_type": "code",
        "colab": {}
      },
      "source": [
        "test = tf.data.Dataset.from_tensor_slices((tf.constant(x_test),tf.constant(y_test))).shuffle(len(y_test))\n",
        "\n",
        "test = test.map(tf_encode,num_parallel_calls=tf.data.experimental.AUTOTUNE).batch(batch_size)"
      ],
      "execution_count": 56,
      "outputs": []
    },
    {
      "cell_type": "code",
      "metadata": {
        "id": "nMJdgg8lTZX_",
        "colab_type": "code",
        "colab": {}
      },
      "source": [
        "from tensorflow.keras.callbacks import ModelCheckpoint\n",
        "filepath=\"/content/drive/My Drive/genre_pred.hdf5\"\n",
        "checkpoint = ModelCheckpoint(filepath, monitor='val_loss', verbose=1, save_best_only=True, mode='min', save_weights_only=True)\n",
        "callbacks_list = [checkpoint]\n"
      ],
      "execution_count": 57,
      "outputs": []
    },
    {
      "cell_type": "code",
      "metadata": {
        "id": "73r-SzgvwDaB",
        "colab_type": "code",
        "colab": {
          "base_uri": "https://localhost:8080/",
          "height": 310
        },
        "outputId": "18c29c89-0cf8-4a2f-9fbe-d46544b3a8a9"
      },
      "source": [
        "model.fit(train, epochs = 4, validation_data=test, callbacks=callbacks_list)  #loss: 2.3813 - acc: 0.2479 - auc: 0.9493 - val_loss: 2.4897 - val_acc: 0.2416 - val_auc: 0.9449"
      ],
      "execution_count": 58,
      "outputs": [
        {
          "output_type": "stream",
          "text": [
            "Epoch 1/4\n",
            "2374/2374 [==============================] - ETA: 0s - loss: 3.4861 - acc: 0.1929 - auc: 0.8723\n",
            "Epoch 00001: val_loss improved from inf to 2.91591, saving model to /content/drive/My Drive/genre_pred.hdf5\n",
            "2374/2374 [==============================] - 2485s 1s/step - loss: 3.4861 - acc: 0.1929 - auc: 0.8723 - val_loss: 2.9159 - val_acc: 0.2395 - val_auc: 0.9292\n",
            "Epoch 2/4\n",
            "2374/2374 [==============================] - ETA: 0s - loss: 2.7015 - acc: 0.2429 - auc: 0.9364\n",
            "Epoch 00002: val_loss improved from 2.91591 to 2.57785, saving model to /content/drive/My Drive/genre_pred.hdf5\n",
            "2374/2374 [==============================] - 2481s 1s/step - loss: 2.7015 - acc: 0.2429 - auc: 0.9364 - val_loss: 2.5779 - val_acc: 0.2535 - val_auc: 0.9384\n",
            "Epoch 3/4\n",
            "2374/2374 [==============================] - ETA: 0s - loss: 2.3844 - acc: 0.2488 - auc: 0.9480\n",
            "Epoch 00003: val_loss improved from 2.57785 to 2.49531, saving model to /content/drive/My Drive/genre_pred.hdf5\n",
            "2374/2374 [==============================] - 2488s 1s/step - loss: 2.3844 - acc: 0.2488 - auc: 0.9480 - val_loss: 2.4953 - val_acc: 0.2360 - val_auc: 0.9391\n",
            "Epoch 4/4\n",
            "2374/2374 [==============================] - ETA: 0s - loss: 2.1479 - acc: 0.2580 - auc: 0.9562\n",
            "Epoch 00004: val_loss did not improve from 2.49531\n",
            "2374/2374 [==============================] - 2482s 1s/step - loss: 2.1479 - acc: 0.2580 - auc: 0.9562 - val_loss: 2.5323 - val_acc: 0.2277 - val_auc: 0.9386\n"
          ],
          "name": "stdout"
        },
        {
          "output_type": "execute_result",
          "data": {
            "text/plain": [
              "<tensorflow.python.keras.callbacks.History at 0x7fabea6917b8>"
            ]
          },
          "metadata": {
            "tags": []
          },
          "execution_count": 58
        }
      ]
    },
    {
      "cell_type": "code",
      "metadata": {
        "id": "KQe2_xxSqR_q",
        "colab_type": "code",
        "colab": {}
      },
      "source": [
        "model.load_weights('/content/drive/My Drive/genre_pred.hdf5')"
      ],
      "execution_count": 59,
      "outputs": []
    },
    {
      "cell_type": "code",
      "metadata": {
        "id": "M0-hW5RevXZj",
        "colab_type": "code",
        "colab": {}
      },
      "source": [
        "from transformers import DistilBertTokenizerFast\n",
        "overflow_tokenizer = DistilBertTokenizerFast.from_pretrained(distil_bert)"
      ],
      "execution_count": 72,
      "outputs": []
    },
    {
      "cell_type": "code",
      "metadata": {
        "id": "wTy9IEj6vvhV",
        "colab_type": "code",
        "colab": {}
      },
      "source": [
        "def predict_genre(text):\n",
        "  genres=[]\n",
        "  inps= overflow_tokenizer([text], padding='max_length', truncation=True, stride=50, return_overflowing_tokens=True)\n",
        "  inp_ids = inps['input_ids']\n",
        "  # token_type = x['token_type_ids']\n",
        "  att_mask = inps['attention_mask']\n",
        "\n",
        "  inp = {'input_token': tf.constant(inp_ids), 'masked_token': tf.constant(att_mask)}\n",
        "  preds = model(inp)\n",
        "  # preds = np.squeeze(preds)\n",
        "  for pred in preds:\n",
        "    ids = pred > 0.77\n",
        "    genres.extend(labels[ids])\n",
        "  return set(genres)"
      ],
      "execution_count": 78,
      "outputs": []
    },
    {
      "cell_type": "code",
      "metadata": {
        "id": "qBj2_Rrex254",
        "colab_type": "code",
        "colab": {
          "base_uri": "https://localhost:8080/",
          "height": 155
        },
        "outputId": "4372ac5a-fbee-4f5b-f202-3b2592673e73"
      },
      "source": [
        "predict_genre(\"After witnessing his parents' death, Bruce learns the art of fighting to confront injustice. When he returns to Gotham as Batman, he must stop a secret society that intends to destroy the city.\")"
      ],
      "execution_count": 79,
      "outputs": [
        {
          "output_type": "execute_result",
          "data": {
            "text/plain": [
              "{'Action',\n",
              " 'Action/Adventure',\n",
              " 'Adventure',\n",
              " 'Hybrid Western',\n",
              " 'Martial Arts Film',\n",
              " 'Science Fiction',\n",
              " 'Superhero',\n",
              " 'Superhero movie'}"
            ]
          },
          "metadata": {
            "tags": []
          },
          "execution_count": 79
        }
      ]
    },
    {
      "cell_type": "code",
      "metadata": {
        "id": "I0Aa1eZn0Bjb",
        "colab_type": "code",
        "colab": {
          "base_uri": "https://localhost:8080/",
          "height": 189
        },
        "outputId": "9211f26d-4172-49a9-b4fe-cd26e2d99162"
      },
      "source": [
        "predict_genre(\"A detective hunts down a young and successful man who runs a crime syndicate.\")"
      ],
      "execution_count": 80,
      "outputs": [
        {
          "output_type": "execute_result",
          "data": {
            "text/plain": [
              "{'Comedy Thriller',\n",
              " 'Crime Drama',\n",
              " 'Crime Fiction',\n",
              " 'Crime Thriller',\n",
              " 'Detective',\n",
              " 'Detective fiction',\n",
              " 'Film noir',\n",
              " 'Mystery',\n",
              " 'Suspense',\n",
              " 'Thriller'}"
            ]
          },
          "metadata": {
            "tags": []
          },
          "execution_count": 80
        }
      ]
    },
    {
      "cell_type": "code",
      "metadata": {
        "id": "Hyu9W44H1oYK",
        "colab_type": "code",
        "colab": {
          "base_uri": "https://localhost:8080/",
          "height": 224
        },
        "outputId": "69f2b2f7-decf-4883-e3ee-4989d9c65b7e"
      },
      "source": [
        "predict_genre(\"Tori and Kyle find a baby boy in a spaceship and adopt him as their own child, Brandon. However, after turning 12, Brandon learns that he has superpowers and begins to use them for sinister purposes.\")"
      ],
      "execution_count": 81,
      "outputs": [
        {
          "output_type": "execute_result",
          "data": {
            "text/plain": [
              "{'Alien Film',\n",
              " 'B-movie',\n",
              " 'Creature Film',\n",
              " 'Cult',\n",
              " 'Horror',\n",
              " 'Horror Comedy',\n",
              " 'Monster',\n",
              " 'Monster movie',\n",
              " 'Natural horror films',\n",
              " 'Science Fiction',\n",
              " 'Teen',\n",
              " 'Zombie Film'}"
            ]
          },
          "metadata": {
            "tags": []
          },
          "execution_count": 81
        }
      ]
    },
    {
      "cell_type": "code",
      "metadata": {
        "id": "gB_KPOb110LS",
        "colab_type": "code",
        "colab": {
          "base_uri": "https://localhost:8080/",
          "height": 207
        },
        "outputId": "675e629e-bc4d-4251-88b4-c999ba0f5ec2"
      },
      "source": [
        "predict_genre(\"Seok-woo and his daughter are on a train to Busan on the latter's birthday to see his wife. However, the journey turns into a nightmare when they are trapped amidst a zombie outbreak in South Korea.\")"
      ],
      "execution_count": 82,
      "outputs": [
        {
          "output_type": "execute_result",
          "data": {
            "text/plain": [
              "{'B-movie',\n",
              " 'Creature Film',\n",
              " 'Gothic Film',\n",
              " 'Haunted House Film',\n",
              " 'Horror',\n",
              " 'Horror Comedy',\n",
              " 'Monster movie',\n",
              " 'Natural horror films',\n",
              " 'Slasher',\n",
              " 'Supernatural',\n",
              " 'Zombie Film'}"
            ]
          },
          "metadata": {
            "tags": []
          },
          "execution_count": 82
        }
      ]
    },
    {
      "cell_type": "code",
      "metadata": {
        "id": "6jaEQrQ-m8QK",
        "colab_type": "code",
        "colab": {
          "base_uri": "https://localhost:8080/",
          "height": 34
        },
        "outputId": "cfce9092-f9be-48e9-d2de-3f6f5ea62df4"
      },
      "source": [
        "predict_genre(\"On the margins of Tokyo, a dysfunctional band of outsiders is united by fierce loyalty and a penchant for petty theft. When the young son is arrested, secrets are exposed that upend their tenuous, below-the-radar existence.\")"
      ],
      "execution_count": 83,
      "outputs": [
        {
          "output_type": "execute_result",
          "data": {
            "text/plain": [
              "{'Crime Fiction', 'Japanese Movies', 'Thriller', 'World cinema'}"
            ]
          },
          "metadata": {
            "tags": []
          },
          "execution_count": 83
        }
      ]
    },
    {
      "cell_type": "code",
      "metadata": {
        "id": "26r6zLRgnM88",
        "colab_type": "code",
        "colab": {
          "base_uri": "https://localhost:8080/",
          "height": 189
        },
        "outputId": "20e4ab0c-bf38-4d44-a9a6-f1be64849d92"
      },
      "source": [
        "text1=\"\"\"Detective Seo Do-cheol is tough and merciless when it comes to crime. But while investigating a high-profile case, Seo finds out that arrogant young millionaire Jo Tae-oh — the third-generation heir to powerful conglomerate Sinjin Group — is pulling some strings behind the scenes. However, no matter how rigorously Seo's team pursues him, Jo always escapes with the help of his wealth and connections.\"\"\"\n",
        "predict_genre(text1)"
      ],
      "execution_count": 84,
      "outputs": [
        {
          "output_type": "execute_result",
          "data": {
            "text/plain": [
              "{'Action',\n",
              " 'Action Thrillers',\n",
              " 'Crime Drama',\n",
              " 'Crime Fiction',\n",
              " 'Crime Thriller',\n",
              " 'Detective',\n",
              " 'Detective fiction',\n",
              " 'Gangster Film',\n",
              " 'Mystery',\n",
              " 'Thriller'}"
            ]
          },
          "metadata": {
            "tags": []
          },
          "execution_count": 84
        }
      ]
    },
    {
      "cell_type": "code",
      "metadata": {
        "id": "z-mkc3uWuq-d",
        "colab_type": "code",
        "colab": {
          "base_uri": "https://localhost:8080/",
          "height": 259
        },
        "outputId": "9d00d6c6-022f-48a2-fd7b-d0b60201d76c"
      },
      "source": [
        "text =\"\"\"Fund manager Seok-woo is a cynical workaholic and divorced father. His little daughter Su-an wants to spend her birthday with her mother in Busan. Seok-woo sees a video of Su-an attempting to sing \"Aloha ʻOe\" at her singing recital and succumbing to stage fright as a result of his absence. Overcome with guilt, he decides to indulge Su-an's wish. They board the KTX 101 at Seoul Station, en route to Busan. Other passengers include working-class man Sang-hwa and his pregnant wife Seong-kyeong, selfish COO Yon-suk, a high school baseball team, including Yong-guk and his cheerleader girlfriend Jin-hee, elderly sisters In-gil and Jong-gil, and a homeless stowaway. As the train departs, an infected woman boards, becomes a zombie and attacks a train attendant. The infection spreads rapidly throughout the train. Seok-woo learns that the zombie plague started at a factory connected to his business, and selfishly plans to use his connections to get to safety. The group escapes to another car and locks the doors. Reports make it known that an epidemic is spreading across the country. After the train stops at Daejeon Station, where an army post is rumored to be housed the surviving passengers find that all the personnel stationed there are infected by the virus, and Seok-woo figures it out himself when a soldier is completely overrun by the infected. The surviving passengers manage to make it back on the train, but Sang-hwa, Seok-woo, Yong-guk, and two surviving baseball players get stuck closing the door. Su-an, Seong-kyeong, In-gil, and the homeless man manage to get on, but they find out that they are in the crosshairs of zombies, and they hide inside a bathroom. Meanwhile. Seok-woo's team manages to close the door, but the glass door shatters, and in the process of running, only Yong-guk, Sang-hwa, and Seok-woo manage to get on the train, with the two baseball players becoming infected. The military establishes a quarantine zone near Busan, and the conductor heads the train there. Seok-woo, Sang-hwa and Yong-guk - who have become separated from their loved ones in a different car, use Yong-guk's baseball bat, riot gear, and hand to hand combat to fight their way to them through the zombies. Once regrouped, they struggle through the horde to the front car, where the rest of the passengers are sheltered. However, the homeless man steps on a soda can, alerting the zombies to their location, and Seok-woo and Sang-hwa attempt to hold off the zombies, but Sang-hwa is bitten. At Yon-suk's instigation, the passengers prevent the survivors from entering, fearing that they are infected. Sang-hwa sacrifices himself to give the others time to enter the car by force by allowing all the zombies to eat him. Yon-suk and the passengers demand that the survivors isolate themselves in the vestibule. However, Jong-gil – disgusted at the passengers' selfishness and despairing the loss of her sister, who has become a zombie – allows the zombies to enter and kill them all. Ironically, because the passengers had forced Seok-woo's group to isolate, his group remains safe. Yon-suk also escapes by hiding in the bathroom with a train attendant, with the survivors breaking off into groups, with Seok-woo, Su-an, Seong-kyeong, Jin-hee, Yong-guk, and the homeless man in one group, and Yon-suk, and the final train attendant in the other A blocked track at East Daegu train station forces the survivors to stop and search for another train. Yon-suk pushes Jin-hee, the train captain, and the train attendant to the zombies to save himself and Jin-hee is bitten. Heartbroken, Yong-guk stays with Jin-hee until she turns and kills him. Meanwhile, a flaming locomotive derails and the survivors are trapped under a train full of zombies. As the zombies drop by breaking the windows, the homeless man sacrifices himself so that Seok-woo has time to save Su-an and Seong-kyeong through a small hole under the derailed train. Realizing that there is a locomotive that still works, Seok-woo, Seong-kyeong, and Su-an narrowly avoid the zombies, and the three board the working locomotive and encounter Yon-suk, who is on the verge of turning into a zombie. Seok-woo manages to throw him off the train, but is bitten in the process. He teaches Seong-kyeong how to operate the train, and says goodbye to his sobbing daughter, throwing himself off the train before he turns. Due to another train blockage, Su-an and Seong-kyeong stop at a tunnel. They continue following the tracks on foot. Snipers stationed on the other side prepare to shoot at what they believe to be zombies. Upon hearing Su-an sobbing and singing \"Aloha ʻOe\" for her father, they lower their weapons, realizing the pair are human, as they help get them to safety.\"\"\"\n",
        "predict_genre(text)"
      ],
      "execution_count": 85,
      "outputs": [
        {
          "output_type": "execute_result",
          "data": {
            "text/plain": [
              "{'B-movie',\n",
              " 'Creature Film',\n",
              " 'Cult',\n",
              " 'Haunted House Film',\n",
              " 'Horror',\n",
              " 'Horror Comedy',\n",
              " 'Monster',\n",
              " 'Monster movie',\n",
              " 'Natural horror films',\n",
              " 'Sci-Fi Horror',\n",
              " 'Slasher',\n",
              " 'Supernatural',\n",
              " 'World cinema',\n",
              " 'Zombie Film'}"
            ]
          },
          "metadata": {
            "tags": []
          },
          "execution_count": 85
        }
      ]
    },
    {
      "cell_type": "code",
      "metadata": {
        "id": "nw4oRngSuxRF",
        "colab_type": "code",
        "colab": {
          "base_uri": "https://localhost:8080/",
          "height": 120
        },
        "outputId": "4da9de30-70c1-4ce1-8cf5-83426b9ac780"
      },
      "source": [
        "raataakelihai = \"\"\"The film starts with a car being followed by a truck and truck hits the car and kills both the driver and the lady. Killer takes the bodies to a factory and burns them with the acid but accidentally acid got spilled on his hand. Five years Later, Inspector Jatil Yadav after attending the wedding of his colleague Narendra Singh gets called up by the SSP to investigate a murder of Raghuveer Singh who gets murdered by his own gun on his wedding night. He is introduced to family by Ramesh Chauhan, brother in law of Raghuveer Singh's first wife. Members of the family are Karuna Singh Daughter of Raghuveer Singh, Karan son of Raghuveer Singh, Chunni maid of the house, Pramila Singh wife of Raghuveer Singh's Brother, Vasudha and Vikram daughter and son of Pramila, Ravi Sisodia husband of Karuna and Radha wife of Raghuveer Singh. Starting Interrogation Vikram told he was the first one to see the dead body, he went to drop his fiancee daughter of MLA Munna Raja around 9:30 and came back around 11:15 and then went with family to temple at 12:30 after which he saw his uncle dead, there was baraat crossing in-front of the house at 10:30. He also found about back stairs which connects directly to water tank, During investigation with Radha, she remembers something and gives the chit to Chunni who gives it to Jatil, on chit the address of Radha is written and he remembers that he saved Radha five years earlier, when she attempted suicide on a train. Further during investigation he finds that Raghuveer's first wife was killed during robbery when she was coming back from Gwalior, his son Karan has also been apprehended with drugs once. Next Day, during investigation, Jatil finds the erotic magazines in Raghuveer's cupboard and some photos of women and plastic bead below the bed. He also finds that Radha was sold by her father and one of the photos is of Radha which he found earlier. Radha further refrains from telling anything to him. Later, Munna Raja comes in after Ravi calls him. Jatil also sees an old lady who was earlier a maid of house and her son was driver when Raghuveer's first wife was returning from Gwalior and she is grandmother of Chunni. Forensics tell them he was murdered between 10 and 12 with his own gun and blunt marks were due to because he was hit by butt of the gun.Phone records show that Vikram received phone call from his uncle at 11:30 and many phone calls from an unknown number which is of Radha. No fingerprints were found on gun as well as from the Raghuveer's phone. During interrogation with Chunni he finds she was the one who took the lamp up to Raghuveer's room and came back with the lamp which broke down on the stairs. She also refrains from telling anything but she tells he couldn't even see her father who died in that road accident and case got closed. Jatil starts investigating the death of Raghuveer's first wife and her driver, and finds that another city's police had reported a similar car and it was filed as hit and run case, leading him to tannery in Jajmau; which is run by a butcher but originally owned by Munna Raja.Further investigation with family reveals that Karuna doesn't like her aunt and her cousin's interference and later Jatil finds a medical report and in the morning Chunni is found dead near the back stairs. He later fights with Narendra his colleague and openly tells the SSP that he will find the truth. Later he is attacked by the goons and calls Narendra for help but he ignores him but he tells him that he is going to arrest Radha, he immediately informs Radha to run but before she can run away Ravi chases her and she locks herself in a room but Jatil comes in time to take her away but goons continue to chase them, they catch the train and unknown to them one of the goons also catches the train. later in the night Radha wakes up to see Jatil missing she takes her knife with her, she finds Jatil being attacked by the Butcher working for Munna Raja, Both overpower him to throw him out of the train. they both reach Raghuveer's Gwalior farmhouse. During this Narendra singh is investigating the murder of Chunni and forensics tells him about the dead skin found in her fingernails leading to man with burnt skin, he makes the report and goes to SSP but he sees the man having fingernail marks on burnt hand in the office of SSP with Munna Raja. He goes to Chunni's grandmother and shows her the photo of the man. Also he informs him about all of this to Jatil, but in the mean time he finds a dupatta in Radha's bag having the same bead he found earlier, he confronts her that she was in fact in the room and she lied, she confesses that she and vikram had an affair and planned to elope with Vikram but he didn't as he was getting married to MLA's daughter, seeing this she got furious and called vikram to come and talk, he went back as soon he dropped his fiancee and parked the card and without anyone noticing took the back stairs and confronted Radha. As she going to enter the room to tell Raghuveer about the affair, lights went out, she tells the truth and Chunni comes upstairs with the lamp, as electricity comes back they all find Raghuveer already dead, Vikram tells her to go downstairs and meanwhile Vikram tells Chunni to call on his cell from Raghuveer's phone. After this while coming back she drops the lamp on the stairs and Vikram takes the backstairs and by main gate he asks the women to come to go for the temple.Later Jatil calls SSP that he has made Radha surrender in another police station. He opens the medical report and finds the medical report under the name of Raghuveer's 1st wife and report was of abortion, and abortion was done one day before the accident. He enquires about it from her brother Ramesh who tells him that she was here with him as Karan caught Malaria but left all of a sudden to kanpur but when he asked on the phone he told he heard horns of the train but contradicting to this she was travelling by car. He also enquired the caretaker of the farmhouse who told that she ordered him to call whenever Raghuveer came with another woman. Investigating the farmhouse he finds the same erotic magazines, polaroid photos, polaroid camera and a badge of a boarding school. He visits the abortion clinic as well and watches the wedding video too. He comes to know that Radha is being taken by police under the bridge on the orders of SSP. As Radha is being taken by Narendra Singh under the bridge the same van comes who were chasing Jatil with the butcher in it, he comes out and inspects the van as he opens the van to take out Radha, Jatil who all along was accompanying her come out and attack resulting in cross-firing in which Radha gets injured but butcher escapes, as soon as butcher reaches his home Chunni's grandmother comes from back and throws oil onto him and burns him alive. In the climax, Radha comes with Jatil in the bungalow with everyone present he starts to tell the truth, He confronts Ravi first that he is one who gave drugs to Karan and later school caught him and Raghuveer bailed him out. It was in fact butcher who killed both Raghuveer's first wife and driver and burnt the bodies in the tannery on the orders of Munna Raja, she came to know about a woman Raghuveer brought in the farmhouse by the caretaker which came out to be Vasudha, Pramila's daughter. She was sexually abused many times by her uncle and expelled from school. On 16th Chunni filed a missing report for her father which later got closed and It was Vasudha who killed her uncle because she confronted him with the truth but he dismissed her claims but in rage she takes out the gun and kills him, later she took out her dupatta and put it in the Radha's bag and changed it which was noticed by Jatil in the wedding video. Mrs Raghuveer called Pramila and told the truth to her and she was going to go back to her brother's home but she asked her to come to back Kanpur by Pramila and in mean time Pramila called Munna Raja and told him to kill Mrs Raghuveer as she was afraid Mrs Raghuveer will take them out of their property and Munna Raja bought Radha from his father for Raghuveer for his sexual desires. She then forgives Raghuveer for everything. After being confronted with truth Pramila kills herself, during cremation Vasudha tells Jatil the truth. Jatil goes back to his normal life. He catches up with Radha's train and asks her to spend her life with him, which she happily accepts.\"\"\"\n",
        "predict_genre(raataakelihai)"
      ],
      "execution_count": 86,
      "outputs": [
        {
          "output_type": "execute_result",
          "data": {
            "text/plain": [
              "{'Bollywood',\n",
              " 'Mystery',\n",
              " 'Romance Film',\n",
              " 'Tamil cinema',\n",
              " 'Thriller',\n",
              " 'World cinema'}"
            ]
          },
          "metadata": {
            "tags": []
          },
          "execution_count": 86
        }
      ]
    },
    {
      "cell_type": "code",
      "metadata": {
        "id": "qgSoLHRUvEvb",
        "colab_type": "code",
        "colab": {
          "base_uri": "https://localhost:8080/",
          "height": 189
        },
        "outputId": "90cc9156-77a3-4d91-91e7-2069d0dde03e"
      },
      "source": [
        "isawthedevil = \"\"\"On a given night, a school-bus driver named Jang Kyung-chul encounters a pregnant woman named Jang Joo-yun, and offers to fix her flat tire. After beating her unconscious, Kyung-chul executes her with a makeshift guillotine at his home, and scatters the body-parts into a local stream. When a boy discovers one of Joo-yun's ears, the police arrive en masse to conduct a search, led by Section Chief Oh and Squad Chief Jang, the latter being Joo-yun's devastated father. The victim's fiance, Kim Soo-hyun, who is an agent of the National Intelligence Service, is also present and vows to take revenge against the murderer. Soo-hyun learns of the four suspects from Squad Chief Jang, and proceeds to privately torture and interrogate two of them. Upon searching the home of Kyung-chul, the third suspect, Soo-hyun finds Joo-yun's engagement-ring, proving that Kyung-chul was the perpetrator. A short time later, as Kyung-chul brings a schoolgirl home and sexually assaults her, Soo-hyun beats him unconscious. Rather than killing Kyung-chul and being done with it, Soo-hyun decides to shove a GPS tracker down his throat, allowing him to see Kyung-chul's location in real-time, and to listen to his conversations. Waking up injured, Kyung-chul walks along the road and is offered a ride by a taxi already containing one passenger. Upon getting in, and correctly guessing that the driver and passenger are, in fact, two bandits intending to rob and murder him, he strikes out preemptively and kills them both, afterward finding the body of the real taxi-driver in the trunk. Kyung-chul throws out all three bodies, and drives to a small town where he sexually assaults a nurse. Soo-hyun arrives to subdue him, and slashes his Achilles tendon before releasing him once more. Kyung-chul visits the home of his friend Tae-joo, a murderer and eater of human flesh. After explaining his situation to Tae-joo, the latter remarks that whoever is after him must be the relative of one of his victims. Soo-hyun arrives and incapacitates both murderers along with Tae-joo's girlfriend. The next day, Tae-joo and Se-jung, still unconscious, are arrested by the police and sent to the hospital. Soo-hyun's trusted subordinate arranges for Soo-hyun and Kyung-chul to evade the police and receive treatment for their wounds at a separate facility. The barely conscious Kyung-chul hears Soo-hyun and the subordinate talking about the transmitter. Soo-hyun releases Kyung-chul again, but the latter outsmarts Soo-hyun by removing the transmitter this time and dashing away, but not before slashing the throat of a pharmacist. Soo-hyun enters Tae-joo's hospital room to question him, and learns too late that Kyung-chul is going after Squad Chief Jang and his other daughter Jang Se-yun. Kyung-chul arrives at the house of Squad Chief Jang, and proceeds to brutally assault Squad Chief Jang and Jang Se-yun, possibly killing them. Shortly after, Kyung-chul attempts to avoid Soo-hyun's revenge by surrendering to the police. However, Soo-hyun drives by and kidnaps Kyung-chul right in front of the police's eyes. Taking him to the earlier warehouse, Soo-hyun tortures him and places him under the makeshift guillotine. Kyung-chul's son and elderly parents, whom he had abandoned some time ago, are told of his whereabouts and try to visit him. Upon opening the door, the guillotine is dropped and Kyung-chul's head rolls to their feet. With Kyung-chul finally dead, Soo-hyun, who was listening through the transmitter some distance away, begins to cry.\"\"\"\n",
        "predict_genre(isawthedevil)"
      ],
      "execution_count": 87,
      "outputs": [
        {
          "output_type": "execute_result",
          "data": {
            "text/plain": [
              "{'Crime Fiction',\n",
              " 'Crime Thriller',\n",
              " 'Horror',\n",
              " 'Mystery',\n",
              " 'Psychological thriller',\n",
              " 'Slasher',\n",
              " 'Supernatural',\n",
              " 'Suspense',\n",
              " 'Thriller',\n",
              " 'World cinema'}"
            ]
          },
          "metadata": {
            "tags": []
          },
          "execution_count": 87
        }
      ]
    },
    {
      "cell_type": "code",
      "metadata": {
        "id": "9XuG9hOavLeA",
        "colab_type": "code",
        "colab": {
          "base_uri": "https://localhost:8080/",
          "height": 224
        },
        "outputId": "d75da388-7eeb-4ca1-be40-28061a2bc3dc"
      },
      "source": [
        "detective_conan = \"\"\"While sorting mail at Dr. Agasa's house, Conan finds an invitation addressed to Jimmy from Leo Joel, a famous architect. Jimmy calls Rachel using his voice-changing bowtie and asks her to go in his place. Rachel agrees, on the condition that Jimmy goes to a movie with her on Saturday. On Saturday morning, Conan receives a call from a strange man, who challenges Jimmy to a game. Conan accepts the challenge, and the mystery caller gives him clues leading to bombs hidden all over Tokyo. Conan finds and destroys every one. Because of the locations of the bombs - near structures designed by Joel - Conan deduces that the bomber is Joel, who planned to destroy his \"inferior\" works and create a perfect new building. Upon his arrest, Joel reveals the location for his final bombs: Beika City Building, the location of Jimmy and Rachel's date. The bombs explode and seal the entrances and exits, trapping Rachel and others inside. Conan makes his way through the collapsing building, but a warped door blocks him off from Rachel. Using his tie and cell phone, he calls Rachel and asks her to look for the bomb. Rachel finds it in a large shopping bag. To disarm the bomb, Jimmy tells Rachel which wires to cut. However, Joel made two extra wires, one red, one blue. One of them is booby-trapped, but Jimmy has no idea which. Jimmy tells Rachel to cut either one. As the rescue team arrives and carries him away, Jimmy realizes that Joel knew that Rachel's favorite color was red and booby-trapped the red one. In the last few minutes, Rachel makes a desperate decision and cuts the blue wire because the red wire represents the red string of fate between Jimmy and herself.\"\"\"\n",
        "predict_genre(detective_conan)"
      ],
      "execution_count": 88,
      "outputs": [
        {
          "output_type": "execute_result",
          "data": {
            "text/plain": [
              "{'Action',\n",
              " 'Action/Adventure',\n",
              " 'Alien Film',\n",
              " 'Animation',\n",
              " 'Anime',\n",
              " 'Fantasy Adventure',\n",
              " 'Japanese Movies',\n",
              " 'Martial Arts Film',\n",
              " 'Monster',\n",
              " 'Science Fiction',\n",
              " 'Superhero',\n",
              " 'Superhero movie'}"
            ]
          },
          "metadata": {
            "tags": []
          },
          "execution_count": 88
        }
      ]
    },
    {
      "cell_type": "code",
      "metadata": {
        "id": "q594PNsWxOJe",
        "colab_type": "code",
        "colab": {}
      },
      "source": [
        ""
      ],
      "execution_count": null,
      "outputs": []
    }
  ]
}